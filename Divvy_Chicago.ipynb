{
 "cells": [
  {
   "cell_type": "markdown",
   "id": "2d0f5217-3d4d-4d85-874f-db7c8d2ee7c8",
   "metadata": {
    "slideshow": {
     "slide_type": "slide"
    },
    "tags": []
   },
   "source": [
    "# Welcome to the Python analysis of the Google Divvy Company Bike-Share Service \n",
    "## By Pablo Gomez\n",
    "### Import the corresponding packages"
   ]
  },
  {
   "cell_type": "code",
   "execution_count": 1,
   "id": "362f8e07-a455-4ac1-9642-4c1cb4500e17",
   "metadata": {
    "slideshow": {
     "slide_type": "skip"
    },
    "tags": []
   },
   "outputs": [],
   "source": [
    "import numpy as np\n",
    "import pandas as pd\n",
    "from matplotlib import pyplot as plt"
   ]
  },
  {
   "cell_type": "markdown",
   "id": "939710df-0502-49bb-8ca0-add4819b0123",
   "metadata": {},
   "source": [
    "### Import the CSV files from desktop"
   ]
  },
  {
   "cell_type": "code",
   "execution_count": 94,
   "id": "ad939e06-4b6c-4ff6-a785-f0d7bebc9b81",
   "metadata": {
    "slideshow": {
     "slide_type": "fragment"
    },
    "tags": []
   },
   "outputs": [],
   "source": [
    "Q2_2019 = pd.read_csv('C:/Users/pgome/OneDrive/Documents/Projects/Chicago Bikes/Divvy_Trips_2019_Q2.csv')"
   ]
  },
  {
   "cell_type": "code",
   "execution_count": 96,
   "id": "f56b2021-fb36-48d0-8192-fc896705cde1",
   "metadata": {
    "slideshow": {
     "slide_type": "skip"
    },
    "tags": []
   },
   "outputs": [
    {
     "data": {
      "text/html": [
       "<div>\n",
       "<style scoped>\n",
       "    .dataframe tbody tr th:only-of-type {\n",
       "        vertical-align: middle;\n",
       "    }\n",
       "\n",
       "    .dataframe tbody tr th {\n",
       "        vertical-align: top;\n",
       "    }\n",
       "\n",
       "    .dataframe thead th {\n",
       "        text-align: right;\n",
       "    }\n",
       "</style>\n",
       "<table border=\"1\" class=\"dataframe\">\n",
       "  <thead>\n",
       "    <tr style=\"text-align: right;\">\n",
       "      <th></th>\n",
       "      <th>01 - Rental Details Rental ID</th>\n",
       "      <th>01 - Rental Details Local Start Time</th>\n",
       "      <th>01 - Rental Details Local End Time</th>\n",
       "      <th>01 - Rental Details Bike ID</th>\n",
       "      <th>01 - Rental Details Duration In Seconds Uncapped</th>\n",
       "      <th>03 - Rental Start Station ID</th>\n",
       "      <th>03 - Rental Start Station Name</th>\n",
       "      <th>02 - Rental End Station ID</th>\n",
       "      <th>02 - Rental End Station Name</th>\n",
       "      <th>User Type</th>\n",
       "      <th>Member Gender</th>\n",
       "      <th>05 - Member Details Member Birthday Year</th>\n",
       "    </tr>\n",
       "  </thead>\n",
       "  <tbody>\n",
       "    <tr>\n",
       "      <th>0</th>\n",
       "      <td>22178529</td>\n",
       "      <td>2019-04-01 00:02:22</td>\n",
       "      <td>2019-04-01 00:09:48</td>\n",
       "      <td>6251</td>\n",
       "      <td>446.0</td>\n",
       "      <td>81</td>\n",
       "      <td>Daley Center Plaza</td>\n",
       "      <td>56</td>\n",
       "      <td>Desplaines St &amp; Kinzie St</td>\n",
       "      <td>Subscriber</td>\n",
       "      <td>Male</td>\n",
       "      <td>1975.0</td>\n",
       "    </tr>\n",
       "    <tr>\n",
       "      <th>1</th>\n",
       "      <td>22178530</td>\n",
       "      <td>2019-04-01 00:03:02</td>\n",
       "      <td>2019-04-01 00:20:30</td>\n",
       "      <td>6226</td>\n",
       "      <td>1,048.0</td>\n",
       "      <td>317</td>\n",
       "      <td>Wood St &amp; Taylor St</td>\n",
       "      <td>59</td>\n",
       "      <td>Wabash Ave &amp; Roosevelt Rd</td>\n",
       "      <td>Subscriber</td>\n",
       "      <td>Female</td>\n",
       "      <td>1984.0</td>\n",
       "    </tr>\n",
       "    <tr>\n",
       "      <th>2</th>\n",
       "      <td>22178531</td>\n",
       "      <td>2019-04-01 00:11:07</td>\n",
       "      <td>2019-04-01 00:15:19</td>\n",
       "      <td>5649</td>\n",
       "      <td>252.0</td>\n",
       "      <td>283</td>\n",
       "      <td>LaSalle St &amp; Jackson Blvd</td>\n",
       "      <td>174</td>\n",
       "      <td>Canal St &amp; Madison St</td>\n",
       "      <td>Subscriber</td>\n",
       "      <td>Male</td>\n",
       "      <td>1990.0</td>\n",
       "    </tr>\n",
       "    <tr>\n",
       "      <th>3</th>\n",
       "      <td>22178532</td>\n",
       "      <td>2019-04-01 00:13:01</td>\n",
       "      <td>2019-04-01 00:18:58</td>\n",
       "      <td>4151</td>\n",
       "      <td>357.0</td>\n",
       "      <td>26</td>\n",
       "      <td>McClurg Ct &amp; Illinois St</td>\n",
       "      <td>133</td>\n",
       "      <td>Kingsbury St &amp; Kinzie St</td>\n",
       "      <td>Subscriber</td>\n",
       "      <td>Male</td>\n",
       "      <td>1993.0</td>\n",
       "    </tr>\n",
       "    <tr>\n",
       "      <th>4</th>\n",
       "      <td>22178533</td>\n",
       "      <td>2019-04-01 00:19:26</td>\n",
       "      <td>2019-04-01 00:36:13</td>\n",
       "      <td>3270</td>\n",
       "      <td>1,007.0</td>\n",
       "      <td>202</td>\n",
       "      <td>Halsted St &amp; 18th St</td>\n",
       "      <td>129</td>\n",
       "      <td>Blue Island Ave &amp; 18th St</td>\n",
       "      <td>Subscriber</td>\n",
       "      <td>Male</td>\n",
       "      <td>1992.0</td>\n",
       "    </tr>\n",
       "  </tbody>\n",
       "</table>\n",
       "</div>"
      ],
      "text/plain": [
       "   01 - Rental Details Rental ID 01 - Rental Details Local Start Time  \\\n",
       "0                       22178529                  2019-04-01 00:02:22   \n",
       "1                       22178530                  2019-04-01 00:03:02   \n",
       "2                       22178531                  2019-04-01 00:11:07   \n",
       "3                       22178532                  2019-04-01 00:13:01   \n",
       "4                       22178533                  2019-04-01 00:19:26   \n",
       "\n",
       "  01 - Rental Details Local End Time  01 - Rental Details Bike ID  \\\n",
       "0                2019-04-01 00:09:48                         6251   \n",
       "1                2019-04-01 00:20:30                         6226   \n",
       "2                2019-04-01 00:15:19                         5649   \n",
       "3                2019-04-01 00:18:58                         4151   \n",
       "4                2019-04-01 00:36:13                         3270   \n",
       "\n",
       "  01 - Rental Details Duration In Seconds Uncapped  \\\n",
       "0                                            446.0   \n",
       "1                                          1,048.0   \n",
       "2                                            252.0   \n",
       "3                                            357.0   \n",
       "4                                          1,007.0   \n",
       "\n",
       "   03 - Rental Start Station ID 03 - Rental Start Station Name  \\\n",
       "0                            81             Daley Center Plaza   \n",
       "1                           317            Wood St & Taylor St   \n",
       "2                           283      LaSalle St & Jackson Blvd   \n",
       "3                            26       McClurg Ct & Illinois St   \n",
       "4                           202           Halsted St & 18th St   \n",
       "\n",
       "   02 - Rental End Station ID 02 - Rental End Station Name   User Type  \\\n",
       "0                          56    Desplaines St & Kinzie St  Subscriber   \n",
       "1                          59    Wabash Ave & Roosevelt Rd  Subscriber   \n",
       "2                         174        Canal St & Madison St  Subscriber   \n",
       "3                         133     Kingsbury St & Kinzie St  Subscriber   \n",
       "4                         129    Blue Island Ave & 18th St  Subscriber   \n",
       "\n",
       "  Member Gender  05 - Member Details Member Birthday Year  \n",
       "0          Male                                    1975.0  \n",
       "1        Female                                    1984.0  \n",
       "2          Male                                    1990.0  \n",
       "3          Male                                    1993.0  \n",
       "4          Male                                    1992.0  "
      ]
     },
     "execution_count": 96,
     "metadata": {},
     "output_type": "execute_result"
    }
   ],
   "source": [
    "Q2_2019.head(5)"
   ]
  },
  {
   "cell_type": "code",
   "execution_count": 4,
   "id": "f3d0f868-6c80-40f6-af61-1c9b4fee5e8f",
   "metadata": {
    "slideshow": {
     "slide_type": "fragment"
    },
    "tags": []
   },
   "outputs": [],
   "source": [
    "Q3_2019 = pd.read_csv('C:/Users/pgome/OneDrive/Documents/Projects/Chicago Bikes/Divvy_Trips_2019_Q3.csv')"
   ]
  },
  {
   "cell_type": "code",
   "execution_count": 5,
   "id": "a85fd971-1d72-4f26-8b6a-e87bbe22d1b7",
   "metadata": {
    "slideshow": {
     "slide_type": "skip"
    },
    "tags": []
   },
   "outputs": [
    {
     "data": {
      "text/html": [
       "<div>\n",
       "<style scoped>\n",
       "    .dataframe tbody tr th:only-of-type {\n",
       "        vertical-align: middle;\n",
       "    }\n",
       "\n",
       "    .dataframe tbody tr th {\n",
       "        vertical-align: top;\n",
       "    }\n",
       "\n",
       "    .dataframe thead th {\n",
       "        text-align: right;\n",
       "    }\n",
       "</style>\n",
       "<table border=\"1\" class=\"dataframe\">\n",
       "  <thead>\n",
       "    <tr style=\"text-align: right;\">\n",
       "      <th></th>\n",
       "      <th>trip_id</th>\n",
       "      <th>start_time</th>\n",
       "      <th>end_time</th>\n",
       "      <th>bikeid</th>\n",
       "      <th>tripduration</th>\n",
       "      <th>from_station_id</th>\n",
       "      <th>from_station_name</th>\n",
       "      <th>to_station_id</th>\n",
       "      <th>to_station_name</th>\n",
       "      <th>usertype</th>\n",
       "      <th>gender</th>\n",
       "      <th>birthyear</th>\n",
       "    </tr>\n",
       "  </thead>\n",
       "  <tbody>\n",
       "    <tr>\n",
       "      <th>0</th>\n",
       "      <td>23479388</td>\n",
       "      <td>2019-07-01 00:00:27</td>\n",
       "      <td>2019-07-01 00:20:41</td>\n",
       "      <td>3591</td>\n",
       "      <td>1,214.0</td>\n",
       "      <td>117</td>\n",
       "      <td>Wilton Ave &amp; Belmont Ave</td>\n",
       "      <td>497</td>\n",
       "      <td>Kimball Ave &amp; Belmont Ave</td>\n",
       "      <td>Subscriber</td>\n",
       "      <td>Male</td>\n",
       "      <td>1992.0</td>\n",
       "    </tr>\n",
       "    <tr>\n",
       "      <th>1</th>\n",
       "      <td>23479389</td>\n",
       "      <td>2019-07-01 00:01:16</td>\n",
       "      <td>2019-07-01 00:18:44</td>\n",
       "      <td>5353</td>\n",
       "      <td>1,048.0</td>\n",
       "      <td>381</td>\n",
       "      <td>Western Ave &amp; Monroe St</td>\n",
       "      <td>203</td>\n",
       "      <td>Western Ave &amp; 21st St</td>\n",
       "      <td>Customer</td>\n",
       "      <td>NaN</td>\n",
       "      <td>NaN</td>\n",
       "    </tr>\n",
       "    <tr>\n",
       "      <th>2</th>\n",
       "      <td>23479390</td>\n",
       "      <td>2019-07-01 00:01:48</td>\n",
       "      <td>2019-07-01 00:27:42</td>\n",
       "      <td>6180</td>\n",
       "      <td>1,554.0</td>\n",
       "      <td>313</td>\n",
       "      <td>Lakeview Ave &amp; Fullerton Pkwy</td>\n",
       "      <td>144</td>\n",
       "      <td>Larrabee St &amp; Webster Ave</td>\n",
       "      <td>Customer</td>\n",
       "      <td>NaN</td>\n",
       "      <td>NaN</td>\n",
       "    </tr>\n",
       "    <tr>\n",
       "      <th>3</th>\n",
       "      <td>23479391</td>\n",
       "      <td>2019-07-01 00:02:07</td>\n",
       "      <td>2019-07-01 00:27:10</td>\n",
       "      <td>5540</td>\n",
       "      <td>1,503.0</td>\n",
       "      <td>313</td>\n",
       "      <td>Lakeview Ave &amp; Fullerton Pkwy</td>\n",
       "      <td>144</td>\n",
       "      <td>Larrabee St &amp; Webster Ave</td>\n",
       "      <td>Customer</td>\n",
       "      <td>NaN</td>\n",
       "      <td>NaN</td>\n",
       "    </tr>\n",
       "    <tr>\n",
       "      <th>4</th>\n",
       "      <td>23479392</td>\n",
       "      <td>2019-07-01 00:02:13</td>\n",
       "      <td>2019-07-01 00:22:26</td>\n",
       "      <td>6014</td>\n",
       "      <td>1,213.0</td>\n",
       "      <td>168</td>\n",
       "      <td>Michigan Ave &amp; 14th St</td>\n",
       "      <td>62</td>\n",
       "      <td>McCormick Place</td>\n",
       "      <td>Customer</td>\n",
       "      <td>NaN</td>\n",
       "      <td>NaN</td>\n",
       "    </tr>\n",
       "  </tbody>\n",
       "</table>\n",
       "</div>"
      ],
      "text/plain": [
       "    trip_id           start_time             end_time  bikeid tripduration  \\\n",
       "0  23479388  2019-07-01 00:00:27  2019-07-01 00:20:41    3591      1,214.0   \n",
       "1  23479389  2019-07-01 00:01:16  2019-07-01 00:18:44    5353      1,048.0   \n",
       "2  23479390  2019-07-01 00:01:48  2019-07-01 00:27:42    6180      1,554.0   \n",
       "3  23479391  2019-07-01 00:02:07  2019-07-01 00:27:10    5540      1,503.0   \n",
       "4  23479392  2019-07-01 00:02:13  2019-07-01 00:22:26    6014      1,213.0   \n",
       "\n",
       "   from_station_id              from_station_name  to_station_id  \\\n",
       "0              117       Wilton Ave & Belmont Ave            497   \n",
       "1              381        Western Ave & Monroe St            203   \n",
       "2              313  Lakeview Ave & Fullerton Pkwy            144   \n",
       "3              313  Lakeview Ave & Fullerton Pkwy            144   \n",
       "4              168         Michigan Ave & 14th St             62   \n",
       "\n",
       "             to_station_name    usertype gender  birthyear  \n",
       "0  Kimball Ave & Belmont Ave  Subscriber   Male     1992.0  \n",
       "1      Western Ave & 21st St    Customer    NaN        NaN  \n",
       "2  Larrabee St & Webster Ave    Customer    NaN        NaN  \n",
       "3  Larrabee St & Webster Ave    Customer    NaN        NaN  \n",
       "4            McCormick Place    Customer    NaN        NaN  "
      ]
     },
     "execution_count": 5,
     "metadata": {},
     "output_type": "execute_result"
    }
   ],
   "source": [
    "Q3_2019.head(5)"
   ]
  },
  {
   "cell_type": "code",
   "execution_count": 6,
   "id": "7d901312-5a6c-4126-82e2-7775c6ab9308",
   "metadata": {
    "slideshow": {
     "slide_type": "fragment"
    },
    "tags": []
   },
   "outputs": [],
   "source": [
    "Q4_2019 = pd.read_csv('C:/Users/pgome/OneDrive/Documents/Projects/Chicago Bikes/Divvy_Trips_2019_Q4.csv')"
   ]
  },
  {
   "cell_type": "code",
   "execution_count": 7,
   "id": "c17d3f7c-75d7-435b-9c49-087665f188fe",
   "metadata": {
    "slideshow": {
     "slide_type": "skip"
    },
    "tags": []
   },
   "outputs": [
    {
     "data": {
      "text/html": [
       "<div>\n",
       "<style scoped>\n",
       "    .dataframe tbody tr th:only-of-type {\n",
       "        vertical-align: middle;\n",
       "    }\n",
       "\n",
       "    .dataframe tbody tr th {\n",
       "        vertical-align: top;\n",
       "    }\n",
       "\n",
       "    .dataframe thead th {\n",
       "        text-align: right;\n",
       "    }\n",
       "</style>\n",
       "<table border=\"1\" class=\"dataframe\">\n",
       "  <thead>\n",
       "    <tr style=\"text-align: right;\">\n",
       "      <th></th>\n",
       "      <th>trip_id</th>\n",
       "      <th>start_time</th>\n",
       "      <th>end_time</th>\n",
       "      <th>bikeid</th>\n",
       "      <th>tripduration</th>\n",
       "      <th>from_station_id</th>\n",
       "      <th>from_station_name</th>\n",
       "      <th>to_station_id</th>\n",
       "      <th>to_station_name</th>\n",
       "      <th>usertype</th>\n",
       "      <th>gender</th>\n",
       "      <th>birthyear</th>\n",
       "    </tr>\n",
       "  </thead>\n",
       "  <tbody>\n",
       "    <tr>\n",
       "      <th>0</th>\n",
       "      <td>25223640</td>\n",
       "      <td>2019-10-01 00:01:39</td>\n",
       "      <td>2019-10-01 00:17:20</td>\n",
       "      <td>2215</td>\n",
       "      <td>940.0</td>\n",
       "      <td>20</td>\n",
       "      <td>Sheffield Ave &amp; Kingsbury St</td>\n",
       "      <td>309</td>\n",
       "      <td>Leavitt St &amp; Armitage Ave</td>\n",
       "      <td>Subscriber</td>\n",
       "      <td>Male</td>\n",
       "      <td>1987.0</td>\n",
       "    </tr>\n",
       "    <tr>\n",
       "      <th>1</th>\n",
       "      <td>25223641</td>\n",
       "      <td>2019-10-01 00:02:16</td>\n",
       "      <td>2019-10-01 00:06:34</td>\n",
       "      <td>6328</td>\n",
       "      <td>258.0</td>\n",
       "      <td>19</td>\n",
       "      <td>Throop (Loomis) St &amp; Taylor St</td>\n",
       "      <td>241</td>\n",
       "      <td>Morgan St &amp; Polk St</td>\n",
       "      <td>Subscriber</td>\n",
       "      <td>Male</td>\n",
       "      <td>1998.0</td>\n",
       "    </tr>\n",
       "    <tr>\n",
       "      <th>2</th>\n",
       "      <td>25223642</td>\n",
       "      <td>2019-10-01 00:04:32</td>\n",
       "      <td>2019-10-01 00:18:43</td>\n",
       "      <td>3003</td>\n",
       "      <td>850.0</td>\n",
       "      <td>84</td>\n",
       "      <td>Milwaukee Ave &amp; Grand Ave</td>\n",
       "      <td>199</td>\n",
       "      <td>Wabash Ave &amp; Grand Ave</td>\n",
       "      <td>Subscriber</td>\n",
       "      <td>Female</td>\n",
       "      <td>1991.0</td>\n",
       "    </tr>\n",
       "    <tr>\n",
       "      <th>3</th>\n",
       "      <td>25223643</td>\n",
       "      <td>2019-10-01 00:04:32</td>\n",
       "      <td>2019-10-01 00:43:43</td>\n",
       "      <td>3275</td>\n",
       "      <td>2,350.0</td>\n",
       "      <td>313</td>\n",
       "      <td>Lakeview Ave &amp; Fullerton Pkwy</td>\n",
       "      <td>290</td>\n",
       "      <td>Kedzie Ave &amp; Palmer Ct</td>\n",
       "      <td>Subscriber</td>\n",
       "      <td>Male</td>\n",
       "      <td>1990.0</td>\n",
       "    </tr>\n",
       "    <tr>\n",
       "      <th>4</th>\n",
       "      <td>25223644</td>\n",
       "      <td>2019-10-01 00:04:34</td>\n",
       "      <td>2019-10-01 00:35:42</td>\n",
       "      <td>5294</td>\n",
       "      <td>1,867.0</td>\n",
       "      <td>210</td>\n",
       "      <td>Ashland Ave &amp; Division St</td>\n",
       "      <td>382</td>\n",
       "      <td>Western Ave &amp; Congress Pkwy</td>\n",
       "      <td>Subscriber</td>\n",
       "      <td>Male</td>\n",
       "      <td>1987.0</td>\n",
       "    </tr>\n",
       "  </tbody>\n",
       "</table>\n",
       "</div>"
      ],
      "text/plain": [
       "    trip_id           start_time             end_time  bikeid tripduration  \\\n",
       "0  25223640  2019-10-01 00:01:39  2019-10-01 00:17:20    2215        940.0   \n",
       "1  25223641  2019-10-01 00:02:16  2019-10-01 00:06:34    6328        258.0   \n",
       "2  25223642  2019-10-01 00:04:32  2019-10-01 00:18:43    3003        850.0   \n",
       "3  25223643  2019-10-01 00:04:32  2019-10-01 00:43:43    3275      2,350.0   \n",
       "4  25223644  2019-10-01 00:04:34  2019-10-01 00:35:42    5294      1,867.0   \n",
       "\n",
       "   from_station_id               from_station_name  to_station_id  \\\n",
       "0               20    Sheffield Ave & Kingsbury St            309   \n",
       "1               19  Throop (Loomis) St & Taylor St            241   \n",
       "2               84       Milwaukee Ave & Grand Ave            199   \n",
       "3              313   Lakeview Ave & Fullerton Pkwy            290   \n",
       "4              210       Ashland Ave & Division St            382   \n",
       "\n",
       "               to_station_name    usertype  gender  birthyear  \n",
       "0    Leavitt St & Armitage Ave  Subscriber    Male     1987.0  \n",
       "1          Morgan St & Polk St  Subscriber    Male     1998.0  \n",
       "2       Wabash Ave & Grand Ave  Subscriber  Female     1991.0  \n",
       "3       Kedzie Ave & Palmer Ct  Subscriber    Male     1990.0  \n",
       "4  Western Ave & Congress Pkwy  Subscriber    Male     1987.0  "
      ]
     },
     "execution_count": 7,
     "metadata": {},
     "output_type": "execute_result"
    }
   ],
   "source": [
    "Q4_2019.head(5)"
   ]
  },
  {
   "cell_type": "code",
   "execution_count": 8,
   "id": "2bb3a1b2-9bfc-49e9-9daa-fc415a2aad02",
   "metadata": {
    "slideshow": {
     "slide_type": "fragment"
    },
    "tags": []
   },
   "outputs": [],
   "source": [
    "Q1_2020 = pd.read_csv('C:/Users/pgome/OneDrive/Documents/Projects/Chicago Bikes/Divvy_Trips_2020_Q1.csv')"
   ]
  },
  {
   "cell_type": "code",
   "execution_count": 9,
   "id": "c9949396-f033-4bac-9dd7-1f459c2f8cd8",
   "metadata": {
    "slideshow": {
     "slide_type": "skip"
    },
    "tags": []
   },
   "outputs": [
    {
     "data": {
      "text/html": [
       "<div>\n",
       "<style scoped>\n",
       "    .dataframe tbody tr th:only-of-type {\n",
       "        vertical-align: middle;\n",
       "    }\n",
       "\n",
       "    .dataframe tbody tr th {\n",
       "        vertical-align: top;\n",
       "    }\n",
       "\n",
       "    .dataframe thead th {\n",
       "        text-align: right;\n",
       "    }\n",
       "</style>\n",
       "<table border=\"1\" class=\"dataframe\">\n",
       "  <thead>\n",
       "    <tr style=\"text-align: right;\">\n",
       "      <th></th>\n",
       "      <th>ride_id</th>\n",
       "      <th>rideable_type</th>\n",
       "      <th>started_at</th>\n",
       "      <th>ended_at</th>\n",
       "      <th>start_station_name</th>\n",
       "      <th>start_station_id</th>\n",
       "      <th>end_station_name</th>\n",
       "      <th>end_station_id</th>\n",
       "      <th>start_lat</th>\n",
       "      <th>start_lng</th>\n",
       "      <th>end_lat</th>\n",
       "      <th>end_lng</th>\n",
       "      <th>member_casual</th>\n",
       "    </tr>\n",
       "  </thead>\n",
       "  <tbody>\n",
       "    <tr>\n",
       "      <th>0</th>\n",
       "      <td>EACB19130B0CDA4A</td>\n",
       "      <td>docked_bike</td>\n",
       "      <td>2020-01-21 20:06:59</td>\n",
       "      <td>2020-01-21 20:14:30</td>\n",
       "      <td>Western Ave &amp; Leland Ave</td>\n",
       "      <td>239</td>\n",
       "      <td>Clark St &amp; Leland Ave</td>\n",
       "      <td>326.0</td>\n",
       "      <td>41.9665</td>\n",
       "      <td>-87.6884</td>\n",
       "      <td>41.9671</td>\n",
       "      <td>-87.6674</td>\n",
       "      <td>member</td>\n",
       "    </tr>\n",
       "    <tr>\n",
       "      <th>1</th>\n",
       "      <td>8FED874C809DC021</td>\n",
       "      <td>docked_bike</td>\n",
       "      <td>2020-01-30 14:22:39</td>\n",
       "      <td>2020-01-30 14:26:22</td>\n",
       "      <td>Clark St &amp; Montrose Ave</td>\n",
       "      <td>234</td>\n",
       "      <td>Southport Ave &amp; Irving Park Rd</td>\n",
       "      <td>318.0</td>\n",
       "      <td>41.9616</td>\n",
       "      <td>-87.6660</td>\n",
       "      <td>41.9542</td>\n",
       "      <td>-87.6644</td>\n",
       "      <td>member</td>\n",
       "    </tr>\n",
       "    <tr>\n",
       "      <th>2</th>\n",
       "      <td>789F3C21E472CA96</td>\n",
       "      <td>docked_bike</td>\n",
       "      <td>2020-01-09 19:29:26</td>\n",
       "      <td>2020-01-09 19:32:17</td>\n",
       "      <td>Broadway &amp; Belmont Ave</td>\n",
       "      <td>296</td>\n",
       "      <td>Wilton Ave &amp; Belmont Ave</td>\n",
       "      <td>117.0</td>\n",
       "      <td>41.9401</td>\n",
       "      <td>-87.6455</td>\n",
       "      <td>41.9402</td>\n",
       "      <td>-87.6530</td>\n",
       "      <td>member</td>\n",
       "    </tr>\n",
       "    <tr>\n",
       "      <th>3</th>\n",
       "      <td>C9A388DAC6ABF313</td>\n",
       "      <td>docked_bike</td>\n",
       "      <td>2020-01-06 16:17:07</td>\n",
       "      <td>2020-01-06 16:25:56</td>\n",
       "      <td>Clark St &amp; Randolph St</td>\n",
       "      <td>51</td>\n",
       "      <td>Fairbanks Ct &amp; Grand Ave</td>\n",
       "      <td>24.0</td>\n",
       "      <td>41.8846</td>\n",
       "      <td>-87.6319</td>\n",
       "      <td>41.8918</td>\n",
       "      <td>-87.6206</td>\n",
       "      <td>member</td>\n",
       "    </tr>\n",
       "    <tr>\n",
       "      <th>4</th>\n",
       "      <td>943BC3CBECCFD662</td>\n",
       "      <td>docked_bike</td>\n",
       "      <td>2020-01-30 08:37:16</td>\n",
       "      <td>2020-01-30 08:42:48</td>\n",
       "      <td>Clinton St &amp; Lake St</td>\n",
       "      <td>66</td>\n",
       "      <td>Wells St &amp; Hubbard St</td>\n",
       "      <td>212.0</td>\n",
       "      <td>41.8856</td>\n",
       "      <td>-87.6418</td>\n",
       "      <td>41.8899</td>\n",
       "      <td>-87.6343</td>\n",
       "      <td>member</td>\n",
       "    </tr>\n",
       "  </tbody>\n",
       "</table>\n",
       "</div>"
      ],
      "text/plain": [
       "            ride_id rideable_type           started_at             ended_at  \\\n",
       "0  EACB19130B0CDA4A   docked_bike  2020-01-21 20:06:59  2020-01-21 20:14:30   \n",
       "1  8FED874C809DC021   docked_bike  2020-01-30 14:22:39  2020-01-30 14:26:22   \n",
       "2  789F3C21E472CA96   docked_bike  2020-01-09 19:29:26  2020-01-09 19:32:17   \n",
       "3  C9A388DAC6ABF313   docked_bike  2020-01-06 16:17:07  2020-01-06 16:25:56   \n",
       "4  943BC3CBECCFD662   docked_bike  2020-01-30 08:37:16  2020-01-30 08:42:48   \n",
       "\n",
       "         start_station_name  start_station_id                end_station_name  \\\n",
       "0  Western Ave & Leland Ave               239           Clark St & Leland Ave   \n",
       "1   Clark St & Montrose Ave               234  Southport Ave & Irving Park Rd   \n",
       "2    Broadway & Belmont Ave               296        Wilton Ave & Belmont Ave   \n",
       "3    Clark St & Randolph St                51        Fairbanks Ct & Grand Ave   \n",
       "4      Clinton St & Lake St                66           Wells St & Hubbard St   \n",
       "\n",
       "   end_station_id  start_lat  start_lng  end_lat  end_lng member_casual  \n",
       "0           326.0    41.9665   -87.6884  41.9671 -87.6674        member  \n",
       "1           318.0    41.9616   -87.6660  41.9542 -87.6644        member  \n",
       "2           117.0    41.9401   -87.6455  41.9402 -87.6530        member  \n",
       "3            24.0    41.8846   -87.6319  41.8918 -87.6206        member  \n",
       "4           212.0    41.8856   -87.6418  41.8899 -87.6343        member  "
      ]
     },
     "execution_count": 9,
     "metadata": {},
     "output_type": "execute_result"
    }
   ],
   "source": [
    "Q1_2020.head(5)"
   ]
  },
  {
   "cell_type": "code",
   "execution_count": 10,
   "id": "05bea28b-8d5b-4cd0-81b8-ce77e958f033",
   "metadata": {
    "slideshow": {
     "slide_type": "skip"
    },
    "tags": []
   },
   "outputs": [
    {
     "name": "stdout",
     "output_type": "stream",
     "text": [
      "<class 'pandas.core.frame.DataFrame'>\n",
      "RangeIndex: 1108163 entries, 0 to 1108162\n",
      "Data columns (total 12 columns):\n",
      " #   Column                                            Non-Null Count    Dtype  \n",
      "---  ------                                            --------------    -----  \n",
      " 0   01 - Rental Details Rental ID                     1108163 non-null  int64  \n",
      " 1   01 - Rental Details Local Start Time              1108163 non-null  object \n",
      " 2   01 - Rental Details Local End Time                1108163 non-null  object \n",
      " 3   01 - Rental Details Bike ID                       1108163 non-null  int64  \n",
      " 4   01 - Rental Details Duration In Seconds Uncapped  1108163 non-null  object \n",
      " 5   03 - Rental Start Station ID                      1108163 non-null  int64  \n",
      " 6   03 - Rental Start Station Name                    1108163 non-null  object \n",
      " 7   02 - Rental End Station ID                        1108163 non-null  int64  \n",
      " 8   02 - Rental End Station Name                      1108163 non-null  object \n",
      " 9   User Type                                         1108163 non-null  object \n",
      " 10  Member Gender                                     922609 non-null   object \n",
      " 11  05 - Member Details Member Birthday Year          927210 non-null   float64\n",
      "dtypes: float64(1), int64(4), object(7)\n",
      "memory usage: 101.5+ MB\n"
     ]
    }
   ],
   "source": [
    "Q2_2019.info()"
   ]
  },
  {
   "cell_type": "code",
   "execution_count": 11,
   "id": "48f1b61d-48fe-4075-8d79-df778fe7a044",
   "metadata": {
    "slideshow": {
     "slide_type": "skip"
    },
    "tags": []
   },
   "outputs": [
    {
     "name": "stdout",
     "output_type": "stream",
     "text": [
      "<class 'pandas.core.frame.DataFrame'>\n",
      "RangeIndex: 1640718 entries, 0 to 1640717\n",
      "Data columns (total 12 columns):\n",
      " #   Column             Non-Null Count    Dtype  \n",
      "---  ------             --------------    -----  \n",
      " 0   trip_id            1640718 non-null  int64  \n",
      " 1   start_time         1640718 non-null  object \n",
      " 2   end_time           1640718 non-null  object \n",
      " 3   bikeid             1640718 non-null  int64  \n",
      " 4   tripduration       1640718 non-null  object \n",
      " 5   from_station_id    1640718 non-null  int64  \n",
      " 6   from_station_name  1640718 non-null  object \n",
      " 7   to_station_id      1640718 non-null  int64  \n",
      " 8   to_station_name    1640718 non-null  object \n",
      " 9   usertype           1640718 non-null  object \n",
      " 10  gender             1353368 non-null  object \n",
      " 11  birthyear          1362624 non-null  float64\n",
      "dtypes: float64(1), int64(4), object(7)\n",
      "memory usage: 150.2+ MB\n"
     ]
    }
   ],
   "source": [
    "Q3_2019.info()"
   ]
  },
  {
   "cell_type": "code",
   "execution_count": 12,
   "id": "d686a464-7ccb-40be-a9e5-8118c2d221f8",
   "metadata": {
    "slideshow": {
     "slide_type": "skip"
    },
    "tags": []
   },
   "outputs": [
    {
     "name": "stdout",
     "output_type": "stream",
     "text": [
      "<class 'pandas.core.frame.DataFrame'>\n",
      "RangeIndex: 704054 entries, 0 to 704053\n",
      "Data columns (total 12 columns):\n",
      " #   Column             Non-Null Count   Dtype  \n",
      "---  ------             --------------   -----  \n",
      " 0   trip_id            704054 non-null  int64  \n",
      " 1   start_time         704054 non-null  object \n",
      " 2   end_time           704054 non-null  object \n",
      " 3   bikeid             704054 non-null  int64  \n",
      " 4   tripduration       704054 non-null  object \n",
      " 5   from_station_id    704054 non-null  int64  \n",
      " 6   from_station_name  704054 non-null  object \n",
      " 7   to_station_id      704054 non-null  int64  \n",
      " 8   to_station_name    704054 non-null  object \n",
      " 9   usertype           704054 non-null  object \n",
      " 10  gender             637463 non-null  object \n",
      " 11  birthyear          642373 non-null  float64\n",
      "dtypes: float64(1), int64(4), object(7)\n",
      "memory usage: 64.5+ MB\n"
     ]
    }
   ],
   "source": [
    "Q4_2019.info()"
   ]
  },
  {
   "cell_type": "code",
   "execution_count": 13,
   "id": "81a99716-3444-4c82-9e18-cb2a6f5c3712",
   "metadata": {
    "slideshow": {
     "slide_type": "skip"
    },
    "tags": []
   },
   "outputs": [
    {
     "name": "stdout",
     "output_type": "stream",
     "text": [
      "<class 'pandas.core.frame.DataFrame'>\n",
      "RangeIndex: 426887 entries, 0 to 426886\n",
      "Data columns (total 13 columns):\n",
      " #   Column              Non-Null Count   Dtype  \n",
      "---  ------              --------------   -----  \n",
      " 0   ride_id             426887 non-null  object \n",
      " 1   rideable_type       426887 non-null  object \n",
      " 2   started_at          426887 non-null  object \n",
      " 3   ended_at            426887 non-null  object \n",
      " 4   start_station_name  426887 non-null  object \n",
      " 5   start_station_id    426887 non-null  int64  \n",
      " 6   end_station_name    426886 non-null  object \n",
      " 7   end_station_id      426886 non-null  float64\n",
      " 8   start_lat           426887 non-null  float64\n",
      " 9   start_lng           426887 non-null  float64\n",
      " 10  end_lat             426886 non-null  float64\n",
      " 11  end_lng             426886 non-null  float64\n",
      " 12  member_casual       426887 non-null  object \n",
      "dtypes: float64(5), int64(1), object(7)\n",
      "memory usage: 42.3+ MB\n"
     ]
    }
   ],
   "source": [
    "Q1_2020.info()"
   ]
  },
  {
   "cell_type": "code",
   "execution_count": 14,
   "id": "38c44735-2c52-4cde-b8e5-9b2550c446bd",
   "metadata": {
    "slideshow": {
     "slide_type": "skip"
    },
    "tags": []
   },
   "outputs": [
    {
     "data": {
      "text/plain": [
       "Index(['ride_id', 'rideable_type', 'started_at', 'ended_at',\n",
       "       'start_station_name', 'start_station_id', 'end_station_name',\n",
       "       'end_station_id', 'start_lat', 'start_lng', 'end_lat', 'end_lng',\n",
       "       'member_casual'],\n",
       "      dtype='object')"
      ]
     },
     "execution_count": 14,
     "metadata": {},
     "output_type": "execute_result"
    }
   ],
   "source": [
    "Q1_2020.columns"
   ]
  },
  {
   "cell_type": "code",
   "execution_count": 15,
   "id": "8425efc3-a3be-4f4d-ac8b-72268b78812c",
   "metadata": {
    "slideshow": {
     "slide_type": "skip"
    },
    "tags": []
   },
   "outputs": [
    {
     "data": {
      "text/plain": [
       "Index(['01 - Rental Details Rental ID', '01 - Rental Details Local Start Time',\n",
       "       '01 - Rental Details Local End Time', '01 - Rental Details Bike ID',\n",
       "       '01 - Rental Details Duration In Seconds Uncapped',\n",
       "       '03 - Rental Start Station ID', '03 - Rental Start Station Name',\n",
       "       '02 - Rental End Station ID', '02 - Rental End Station Name',\n",
       "       'User Type', 'Member Gender',\n",
       "       '05 - Member Details Member Birthday Year'],\n",
       "      dtype='object')"
      ]
     },
     "execution_count": 15,
     "metadata": {},
     "output_type": "execute_result"
    }
   ],
   "source": [
    "Q2_2019.columns"
   ]
  },
  {
   "cell_type": "markdown",
   "id": "1a37e937-53a6-422a-851f-9ecae53a8fb0",
   "metadata": {
    "slideshow": {
     "slide_type": "slide"
    },
    "tags": []
   },
   "source": [
    "### Since the values of the columns for the data frames do not match we first rename them to a universal naming convention"
   ]
  },
  {
   "cell_type": "code",
   "execution_count": 16,
   "id": "594e26bd-edec-45fb-b506-e23ecdb37d92",
   "metadata": {
    "slideshow": {
     "slide_type": "fragment"
    },
    "tags": []
   },
   "outputs": [],
   "source": [
    "Q2_2019 = Q2_2019.rename(columns={'01 - Rental Details Local Start Time':'started_at', '01 - Rental Details Local End Time':'ended_at', '01 - Rental Details Bike ID': 'ride_id', '03 - Rental Start Station ID':'start_station_id', '03 - Rental Start Station Name':\n",
    "                                  'start_station_name', '02 - Rental End Station ID':'end_station_id', '02 - Rental End Station Name':'end_station_name','User Type':'member_casual'})"
   ]
  },
  {
   "cell_type": "code",
   "execution_count": 17,
   "id": "5945826a-ba7a-4fa8-bd61-536a8cf532c6",
   "metadata": {
    "slideshow": {
     "slide_type": "skip"
    },
    "tags": []
   },
   "outputs": [
    {
     "data": {
      "text/plain": [
       "Index(['trip_id', 'start_time', 'end_time', 'bikeid', 'tripduration',\n",
       "       'from_station_id', 'from_station_name', 'to_station_id',\n",
       "       'to_station_name', 'usertype', 'gender', 'birthyear'],\n",
       "      dtype='object')"
      ]
     },
     "execution_count": 17,
     "metadata": {},
     "output_type": "execute_result"
    }
   ],
   "source": [
    "Q3_2019.columns"
   ]
  },
  {
   "cell_type": "code",
   "execution_count": 18,
   "id": "7b893c3b-021f-4c64-8f39-2e9badc80a8f",
   "metadata": {},
   "outputs": [],
   "source": [
    "Q3_2019 = Q3_2019.rename(columns={'start_time':'started_at', 'end_time':'ended_at', 'bikeid':'ride_id','from_station_id':'start_station_id', 'from_station_name':'start_station_name','to_station_id':'end_station_id','to_station_name':'end_station_name',\n",
    "                                  'usertype':'member_casual'})"
   ]
  },
  {
   "cell_type": "code",
   "execution_count": 19,
   "id": "3e6a8384-3530-4dfe-8b4c-45cdf2492193",
   "metadata": {
    "slideshow": {
     "slide_type": "skip"
    },
    "tags": []
   },
   "outputs": [
    {
     "data": {
      "text/plain": [
       "Index(['trip_id', 'started_at', 'ended_at', 'ride_id', 'tripduration',\n",
       "       'start_station_id', 'start_station_name', 'end_station_id',\n",
       "       'end_station_name', 'member_casual', 'gender', 'birthyear'],\n",
       "      dtype='object')"
      ]
     },
     "execution_count": 19,
     "metadata": {},
     "output_type": "execute_result"
    }
   ],
   "source": [
    "Q3_2019.columns"
   ]
  },
  {
   "cell_type": "code",
   "execution_count": 20,
   "id": "82e0d97a-009a-46c7-aa62-56a461b7d2f7",
   "metadata": {
    "slideshow": {
     "slide_type": "fragment"
    },
    "tags": []
   },
   "outputs": [],
   "source": [
    "Q4_2019 = Q4_2019.rename(columns={'start_time':'started_at', 'end_time':'ended_at', 'bikeid':'ride_id','from_station_id':'start_station_id', 'from_station_name':'start_station_name','to_station_id':'end_station_id','to_station_name':'end_station_name',\n",
    "                                  'usertype':'member_casual'})"
   ]
  },
  {
   "cell_type": "code",
   "execution_count": 21,
   "id": "bfb46de9-5578-4e8d-9b3a-d7f366e596af",
   "metadata": {
    "slideshow": {
     "slide_type": "skip"
    },
    "tags": []
   },
   "outputs": [
    {
     "data": {
      "text/plain": [
       "Index(['trip_id', 'started_at', 'ended_at', 'ride_id', 'tripduration',\n",
       "       'start_station_id', 'start_station_name', 'end_station_id',\n",
       "       'end_station_name', 'member_casual', 'gender', 'birthyear'],\n",
       "      dtype='object')"
      ]
     },
     "execution_count": 21,
     "metadata": {},
     "output_type": "execute_result"
    }
   ],
   "source": [
    "Q4_2019.columns"
   ]
  },
  {
   "cell_type": "code",
   "execution_count": 22,
   "id": "34c215a9-d6d2-4dc6-9910-dcfbf8504bbc",
   "metadata": {
    "slideshow": {
     "slide_type": "skip"
    },
    "tags": []
   },
   "outputs": [
    {
     "data": {
      "text/plain": [
       "Index(['ride_id', 'rideable_type', 'started_at', 'ended_at',\n",
       "       'start_station_name', 'start_station_id', 'end_station_name',\n",
       "       'end_station_id', 'start_lat', 'start_lng', 'end_lat', 'end_lng',\n",
       "       'member_casual'],\n",
       "      dtype='object')"
      ]
     },
     "execution_count": 22,
     "metadata": {},
     "output_type": "execute_result"
    }
   ],
   "source": [
    "Q1_2020.columns"
   ]
  },
  {
   "cell_type": "code",
   "execution_count": 23,
   "id": "7c84a3c5-1c4e-48b4-9262-da26f4f79cf1",
   "metadata": {
    "slideshow": {
     "slide_type": "skip"
    },
    "tags": []
   },
   "outputs": [
    {
     "data": {
      "text/plain": [
       "Index(['01 - Rental Details Rental ID', 'started_at', 'ended_at', 'ride_id',\n",
       "       '01 - Rental Details Duration In Seconds Uncapped', 'start_station_id',\n",
       "       'start_station_name', 'end_station_id', 'end_station_name',\n",
       "       'member_casual', 'Member Gender',\n",
       "       '05 - Member Details Member Birthday Year'],\n",
       "      dtype='object')"
      ]
     },
     "execution_count": 23,
     "metadata": {},
     "output_type": "execute_result"
    }
   ],
   "source": [
    "Q2_2019.columns"
   ]
  },
  {
   "cell_type": "markdown",
   "id": "b48dbc22-22ac-4847-a7fc-4938a379bdf0",
   "metadata": {
    "slideshow": {
     "slide_type": "slide"
    },
    "tags": []
   },
   "source": [
    "### Next we organize all of the columns in a correct manner to continue the Universal priciple"
   ]
  },
  {
   "cell_type": "code",
   "execution_count": 24,
   "id": "d9dd1294-9078-40b0-91e8-77490fc98abc",
   "metadata": {
    "slideshow": {
     "slide_type": "fragment"
    },
    "tags": []
   },
   "outputs": [],
   "source": [
    "column_titles = ['ride_id','started_at','ended_at','start_station_name','start_station_id','end_station_name','end_station_id','member_casual']"
   ]
  },
  {
   "cell_type": "code",
   "execution_count": 25,
   "id": "0b06d49e-8d71-484f-9f7b-ce0bb289bcac",
   "metadata": {
    "slideshow": {
     "slide_type": "fragment"
    },
    "tags": []
   },
   "outputs": [],
   "source": [
    "Q2_2019 = Q2_2019.reindex(columns=column_titles)"
   ]
  },
  {
   "cell_type": "code",
   "execution_count": 26,
   "id": "6b1f9e60-5c1f-4d79-8bb7-120b6e733e1c",
   "metadata": {
    "slideshow": {
     "slide_type": "fragment"
    },
    "tags": []
   },
   "outputs": [],
   "source": [
    "Q3_2019 = Q3_2019.reindex(columns=column_titles)"
   ]
  },
  {
   "cell_type": "code",
   "execution_count": 27,
   "id": "396de417-d702-479b-9ab2-59432dce36cc",
   "metadata": {
    "slideshow": {
     "slide_type": "fragment"
    },
    "tags": []
   },
   "outputs": [],
   "source": [
    "Q4_2019 = Q4_2019.reindex(columns=column_titles)"
   ]
  },
  {
   "cell_type": "code",
   "execution_count": 28,
   "id": "18b2bbf1-e049-41f4-9689-5c54d92a6513",
   "metadata": {
    "slideshow": {
     "slide_type": "fragment"
    },
    "tags": []
   },
   "outputs": [],
   "source": [
    "Q1_2020 = Q1_2020.reindex(columns=column_titles)"
   ]
  },
  {
   "cell_type": "code",
   "execution_count": 29,
   "id": "ed15fccd-374d-427a-9491-3f3a500fa3b5",
   "metadata": {
    "slideshow": {
     "slide_type": "skip"
    },
    "tags": []
   },
   "outputs": [
    {
     "name": "stdout",
     "output_type": "stream",
     "text": [
      "<class 'pandas.core.frame.DataFrame'>\n",
      "RangeIndex: 426887 entries, 0 to 426886\n",
      "Data columns (total 8 columns):\n",
      " #   Column              Non-Null Count   Dtype  \n",
      "---  ------              --------------   -----  \n",
      " 0   ride_id             426887 non-null  object \n",
      " 1   started_at          426887 non-null  object \n",
      " 2   ended_at            426887 non-null  object \n",
      " 3   start_station_name  426887 non-null  object \n",
      " 4   start_station_id    426887 non-null  int64  \n",
      " 5   end_station_name    426886 non-null  object \n",
      " 6   end_station_id      426886 non-null  float64\n",
      " 7   member_casual       426887 non-null  object \n",
      "dtypes: float64(1), int64(1), object(6)\n",
      "memory usage: 26.1+ MB\n"
     ]
    }
   ],
   "source": [
    "Q1_2020.info()"
   ]
  },
  {
   "cell_type": "code",
   "execution_count": 30,
   "id": "bcd1b350-3f52-4356-98a0-f47e5051c700",
   "metadata": {
    "slideshow": {
     "slide_type": "skip"
    },
    "tags": []
   },
   "outputs": [
    {
     "data": {
      "text/html": [
       "<div>\n",
       "<style scoped>\n",
       "    .dataframe tbody tr th:only-of-type {\n",
       "        vertical-align: middle;\n",
       "    }\n",
       "\n",
       "    .dataframe tbody tr th {\n",
       "        vertical-align: top;\n",
       "    }\n",
       "\n",
       "    .dataframe thead th {\n",
       "        text-align: right;\n",
       "    }\n",
       "</style>\n",
       "<table border=\"1\" class=\"dataframe\">\n",
       "  <thead>\n",
       "    <tr style=\"text-align: right;\">\n",
       "      <th></th>\n",
       "      <th>ride_id</th>\n",
       "      <th>started_at</th>\n",
       "      <th>ended_at</th>\n",
       "      <th>start_station_name</th>\n",
       "      <th>start_station_id</th>\n",
       "      <th>end_station_name</th>\n",
       "      <th>end_station_id</th>\n",
       "      <th>member_casual</th>\n",
       "    </tr>\n",
       "  </thead>\n",
       "  <tbody>\n",
       "    <tr>\n",
       "      <th>0</th>\n",
       "      <td>6251</td>\n",
       "      <td>2019-04-01 00:02:22</td>\n",
       "      <td>2019-04-01 00:09:48</td>\n",
       "      <td>Daley Center Plaza</td>\n",
       "      <td>81</td>\n",
       "      <td>Desplaines St &amp; Kinzie St</td>\n",
       "      <td>56</td>\n",
       "      <td>Subscriber</td>\n",
       "    </tr>\n",
       "    <tr>\n",
       "      <th>1</th>\n",
       "      <td>6226</td>\n",
       "      <td>2019-04-01 00:03:02</td>\n",
       "      <td>2019-04-01 00:20:30</td>\n",
       "      <td>Wood St &amp; Taylor St</td>\n",
       "      <td>317</td>\n",
       "      <td>Wabash Ave &amp; Roosevelt Rd</td>\n",
       "      <td>59</td>\n",
       "      <td>Subscriber</td>\n",
       "    </tr>\n",
       "    <tr>\n",
       "      <th>2</th>\n",
       "      <td>5649</td>\n",
       "      <td>2019-04-01 00:11:07</td>\n",
       "      <td>2019-04-01 00:15:19</td>\n",
       "      <td>LaSalle St &amp; Jackson Blvd</td>\n",
       "      <td>283</td>\n",
       "      <td>Canal St &amp; Madison St</td>\n",
       "      <td>174</td>\n",
       "      <td>Subscriber</td>\n",
       "    </tr>\n",
       "    <tr>\n",
       "      <th>3</th>\n",
       "      <td>4151</td>\n",
       "      <td>2019-04-01 00:13:01</td>\n",
       "      <td>2019-04-01 00:18:58</td>\n",
       "      <td>McClurg Ct &amp; Illinois St</td>\n",
       "      <td>26</td>\n",
       "      <td>Kingsbury St &amp; Kinzie St</td>\n",
       "      <td>133</td>\n",
       "      <td>Subscriber</td>\n",
       "    </tr>\n",
       "    <tr>\n",
       "      <th>4</th>\n",
       "      <td>3270</td>\n",
       "      <td>2019-04-01 00:19:26</td>\n",
       "      <td>2019-04-01 00:36:13</td>\n",
       "      <td>Halsted St &amp; 18th St</td>\n",
       "      <td>202</td>\n",
       "      <td>Blue Island Ave &amp; 18th St</td>\n",
       "      <td>129</td>\n",
       "      <td>Subscriber</td>\n",
       "    </tr>\n",
       "  </tbody>\n",
       "</table>\n",
       "</div>"
      ],
      "text/plain": [
       "   ride_id           started_at             ended_at  \\\n",
       "0     6251  2019-04-01 00:02:22  2019-04-01 00:09:48   \n",
       "1     6226  2019-04-01 00:03:02  2019-04-01 00:20:30   \n",
       "2     5649  2019-04-01 00:11:07  2019-04-01 00:15:19   \n",
       "3     4151  2019-04-01 00:13:01  2019-04-01 00:18:58   \n",
       "4     3270  2019-04-01 00:19:26  2019-04-01 00:36:13   \n",
       "\n",
       "          start_station_name  start_station_id           end_station_name  \\\n",
       "0         Daley Center Plaza                81  Desplaines St & Kinzie St   \n",
       "1        Wood St & Taylor St               317  Wabash Ave & Roosevelt Rd   \n",
       "2  LaSalle St & Jackson Blvd               283      Canal St & Madison St   \n",
       "3   McClurg Ct & Illinois St                26   Kingsbury St & Kinzie St   \n",
       "4       Halsted St & 18th St               202  Blue Island Ave & 18th St   \n",
       "\n",
       "   end_station_id member_casual  \n",
       "0              56    Subscriber  \n",
       "1              59    Subscriber  \n",
       "2             174    Subscriber  \n",
       "3             133    Subscriber  \n",
       "4             129    Subscriber  "
      ]
     },
     "execution_count": 30,
     "metadata": {},
     "output_type": "execute_result"
    }
   ],
   "source": [
    "Q2_2019.head(5)"
   ]
  },
  {
   "cell_type": "code",
   "execution_count": 31,
   "id": "cc5cff8f-b2e6-4d8c-98eb-d5b92b0bf7ab",
   "metadata": {
    "slideshow": {
     "slide_type": "skip"
    },
    "tags": []
   },
   "outputs": [
    {
     "name": "stdout",
     "output_type": "stream",
     "text": [
      "<class 'pandas.core.frame.DataFrame'>\n",
      "RangeIndex: 426887 entries, 0 to 426886\n",
      "Data columns (total 8 columns):\n",
      " #   Column              Non-Null Count   Dtype  \n",
      "---  ------              --------------   -----  \n",
      " 0   ride_id             426887 non-null  object \n",
      " 1   started_at          426887 non-null  object \n",
      " 2   ended_at            426887 non-null  object \n",
      " 3   start_station_name  426887 non-null  object \n",
      " 4   start_station_id    426887 non-null  int64  \n",
      " 5   end_station_name    426886 non-null  object \n",
      " 6   end_station_id      426886 non-null  float64\n",
      " 7   member_casual       426887 non-null  object \n",
      "dtypes: float64(1), int64(1), object(6)\n",
      "memory usage: 26.1+ MB\n"
     ]
    }
   ],
   "source": [
    "Q1_2020.info()"
   ]
  },
  {
   "cell_type": "code",
   "execution_count": 32,
   "id": "c71caff4-f7f7-4d82-8fc3-fcd5ce273d45",
   "metadata": {
    "slideshow": {
     "slide_type": "skip"
    },
    "tags": []
   },
   "outputs": [
    {
     "name": "stdout",
     "output_type": "stream",
     "text": [
      "<class 'pandas.core.frame.DataFrame'>\n",
      "RangeIndex: 1108163 entries, 0 to 1108162\n",
      "Data columns (total 8 columns):\n",
      " #   Column              Non-Null Count    Dtype \n",
      "---  ------              --------------    ----- \n",
      " 0   ride_id             1108163 non-null  int64 \n",
      " 1   started_at          1108163 non-null  object\n",
      " 2   ended_at            1108163 non-null  object\n",
      " 3   start_station_name  1108163 non-null  object\n",
      " 4   start_station_id    1108163 non-null  int64 \n",
      " 5   end_station_name    1108163 non-null  object\n",
      " 6   end_station_id      1108163 non-null  int64 \n",
      " 7   member_casual       1108163 non-null  object\n",
      "dtypes: int64(3), object(5)\n",
      "memory usage: 67.6+ MB\n"
     ]
    }
   ],
   "source": [
    "Q2_2019.info()"
   ]
  },
  {
   "cell_type": "markdown",
   "id": "a278b5c4-520c-466a-8f05-66521d1baf88",
   "metadata": {
    "slideshow": {
     "slide_type": "slide"
    },
    "tags": []
   },
   "source": [
    "### Now we check all of the columns to see if there are any null values"
   ]
  },
  {
   "cell_type": "code",
   "execution_count": 33,
   "id": "5875cea8-84f5-4f50-b8db-4b68b3937dbb",
   "metadata": {
    "slideshow": {
     "slide_type": "fragment"
    },
    "tags": []
   },
   "outputs": [
    {
     "data": {
      "text/plain": [
       "ride_id               0\n",
       "started_at            0\n",
       "ended_at              0\n",
       "start_station_name    0\n",
       "start_station_id      0\n",
       "end_station_name      0\n",
       "end_station_id        0\n",
       "member_casual         0\n",
       "dtype: int64"
      ]
     },
     "execution_count": 33,
     "metadata": {},
     "output_type": "execute_result"
    }
   ],
   "source": [
    "Q2_2019.isnull().sum()"
   ]
  },
  {
   "cell_type": "code",
   "execution_count": 34,
   "id": "d861cac9-87fb-49d4-9385-65ec95f3ba30",
   "metadata": {
    "slideshow": {
     "slide_type": "fragment"
    },
    "tags": []
   },
   "outputs": [
    {
     "data": {
      "text/plain": [
       "ride_id               0\n",
       "started_at            0\n",
       "ended_at              0\n",
       "start_station_name    0\n",
       "start_station_id      0\n",
       "end_station_name      0\n",
       "end_station_id        0\n",
       "member_casual         0\n",
       "dtype: int64"
      ]
     },
     "execution_count": 34,
     "metadata": {},
     "output_type": "execute_result"
    }
   ],
   "source": [
    "Q3_2019.isnull().sum()"
   ]
  },
  {
   "cell_type": "code",
   "execution_count": 35,
   "id": "0d6f3a30-04f0-444f-8c50-e3b5dedfb31c",
   "metadata": {
    "slideshow": {
     "slide_type": "fragment"
    },
    "tags": []
   },
   "outputs": [
    {
     "data": {
      "text/plain": [
       "ride_id               0\n",
       "started_at            0\n",
       "ended_at              0\n",
       "start_station_name    0\n",
       "start_station_id      0\n",
       "end_station_name      0\n",
       "end_station_id        0\n",
       "member_casual         0\n",
       "dtype: int64"
      ]
     },
     "execution_count": 35,
     "metadata": {},
     "output_type": "execute_result"
    }
   ],
   "source": [
    "Q4_2019.isnull().sum()"
   ]
  },
  {
   "cell_type": "code",
   "execution_count": 36,
   "id": "94e6308f-b606-40e0-8a18-c4e9c2d617ee",
   "metadata": {
    "slideshow": {
     "slide_type": "subslide"
    },
    "tags": []
   },
   "outputs": [
    {
     "data": {
      "text/plain": [
       "ride_id               0\n",
       "started_at            0\n",
       "ended_at              0\n",
       "start_station_name    0\n",
       "start_station_id      0\n",
       "end_station_name      1\n",
       "end_station_id        1\n",
       "member_casual         0\n",
       "dtype: int64"
      ]
     },
     "execution_count": 36,
     "metadata": {},
     "output_type": "execute_result"
    }
   ],
   "source": [
    "Q1_2020.isnull().sum()"
   ]
  },
  {
   "cell_type": "markdown",
   "id": "adf962ae-798f-4922-aaa0-d6c3876bb592",
   "metadata": {},
   "source": [
    "We find abouve the Q1_2020 Data frame has two null values!"
   ]
  },
  {
   "cell_type": "code",
   "execution_count": 37,
   "id": "bc1bb6c9-8ab7-4c28-9fb1-1786f6ec850f",
   "metadata": {
    "slideshow": {
     "slide_type": "fragment"
    },
    "tags": []
   },
   "outputs": [],
   "source": [
    "Q1_2020 = Q1_2020.dropna()"
   ]
  },
  {
   "cell_type": "markdown",
   "id": "ce28a457-fb45-49ed-a8b4-1a3e09fc7129",
   "metadata": {},
   "source": [
    "We remove the null values\n",
    "### We now look to reformat datatypes, specifically in the timestamp columns"
   ]
  },
  {
   "cell_type": "code",
   "execution_count": 38,
   "id": "ae362063-b4fe-42b4-9ef1-f3b4f4bbe95e",
   "metadata": {
    "slideshow": {
     "slide_type": "fragment"
    },
    "tags": []
   },
   "outputs": [],
   "source": [
    "Q2_2019['started_at'] = pd.to_datetime(Q2_2019['started_at'])"
   ]
  },
  {
   "cell_type": "code",
   "execution_count": 39,
   "id": "3196908a-3ae0-4960-b5f7-83ca8e78afc0",
   "metadata": {
    "slideshow": {
     "slide_type": "fragment"
    },
    "tags": []
   },
   "outputs": [],
   "source": [
    "Q2_2019['ended_at'] = pd.to_datetime(Q2_2019['ended_at'])"
   ]
  },
  {
   "cell_type": "code",
   "execution_count": 40,
   "id": "153e44cc-29ea-4176-9de2-64704340be52",
   "metadata": {
    "slideshow": {
     "slide_type": "fragment"
    },
    "tags": []
   },
   "outputs": [],
   "source": [
    "Q3_2019['started_at'] = pd.to_datetime(Q3_2019['started_at'])"
   ]
  },
  {
   "cell_type": "code",
   "execution_count": 41,
   "id": "87d102b5-19ce-4dbe-ab34-0db0b27ab4c1",
   "metadata": {
    "slideshow": {
     "slide_type": "fragment"
    },
    "tags": []
   },
   "outputs": [],
   "source": [
    "Q3_2019['ended_at'] = pd.to_datetime(Q3_2019['ended_at'])"
   ]
  },
  {
   "cell_type": "code",
   "execution_count": 42,
   "id": "ae9583f8-b431-47db-85e7-c43bb1d3d3eb",
   "metadata": {
    "slideshow": {
     "slide_type": "fragment"
    },
    "tags": []
   },
   "outputs": [],
   "source": [
    "Q4_2019['started_at'] = pd.to_datetime(Q4_2019['started_at'])"
   ]
  },
  {
   "cell_type": "code",
   "execution_count": 43,
   "id": "a8e82882-073a-4521-8b93-a69d7342db44",
   "metadata": {
    "slideshow": {
     "slide_type": "fragment"
    },
    "tags": []
   },
   "outputs": [],
   "source": [
    "Q4_2019['ended_at'] = pd.to_datetime(Q4_2019['ended_at'])"
   ]
  },
  {
   "cell_type": "code",
   "execution_count": 44,
   "id": "b9d28eb2-9efe-4aa5-a6be-9e407e6320ea",
   "metadata": {
    "slideshow": {
     "slide_type": "fragment"
    },
    "tags": []
   },
   "outputs": [],
   "source": [
    "Q1_2020['started_at'] = pd.to_datetime(Q1_2020['started_at'])"
   ]
  },
  {
   "cell_type": "code",
   "execution_count": 45,
   "id": "e1b0ad07-0716-444d-8583-12731a42f673",
   "metadata": {
    "slideshow": {
     "slide_type": "fragment"
    },
    "tags": []
   },
   "outputs": [],
   "source": [
    "Q1_2020['ended_at'] = pd.to_datetime(Q1_2020['ended_at'])"
   ]
  },
  {
   "cell_type": "code",
   "execution_count": 46,
   "id": "197c04fe-86af-4bb6-bd34-47a40b792139",
   "metadata": {
    "slideshow": {
     "slide_type": "skip"
    },
    "tags": []
   },
   "outputs": [
    {
     "name": "stdout",
     "output_type": "stream",
     "text": [
      "<class 'pandas.core.frame.DataFrame'>\n",
      "RangeIndex: 1108163 entries, 0 to 1108162\n",
      "Data columns (total 8 columns):\n",
      " #   Column              Non-Null Count    Dtype         \n",
      "---  ------              --------------    -----         \n",
      " 0   ride_id             1108163 non-null  int64         \n",
      " 1   started_at          1108163 non-null  datetime64[ns]\n",
      " 2   ended_at            1108163 non-null  datetime64[ns]\n",
      " 3   start_station_name  1108163 non-null  object        \n",
      " 4   start_station_id    1108163 non-null  int64         \n",
      " 5   end_station_name    1108163 non-null  object        \n",
      " 6   end_station_id      1108163 non-null  int64         \n",
      " 7   member_casual       1108163 non-null  object        \n",
      "dtypes: datetime64[ns](2), int64(3), object(3)\n",
      "memory usage: 67.6+ MB\n"
     ]
    }
   ],
   "source": [
    "Q2_2019.info()"
   ]
  },
  {
   "cell_type": "code",
   "execution_count": 47,
   "id": "59759277-3b54-436e-8d47-15930a450cd0",
   "metadata": {
    "slideshow": {
     "slide_type": "skip"
    },
    "tags": []
   },
   "outputs": [
    {
     "name": "stdout",
     "output_type": "stream",
     "text": [
      "<class 'pandas.core.frame.DataFrame'>\n",
      "RangeIndex: 1640718 entries, 0 to 1640717\n",
      "Data columns (total 8 columns):\n",
      " #   Column              Non-Null Count    Dtype         \n",
      "---  ------              --------------    -----         \n",
      " 0   ride_id             1640718 non-null  int64         \n",
      " 1   started_at          1640718 non-null  datetime64[ns]\n",
      " 2   ended_at            1640718 non-null  datetime64[ns]\n",
      " 3   start_station_name  1640718 non-null  object        \n",
      " 4   start_station_id    1640718 non-null  int64         \n",
      " 5   end_station_name    1640718 non-null  object        \n",
      " 6   end_station_id      1640718 non-null  int64         \n",
      " 7   member_casual       1640718 non-null  object        \n",
      "dtypes: datetime64[ns](2), int64(3), object(3)\n",
      "memory usage: 100.1+ MB\n"
     ]
    }
   ],
   "source": [
    "Q3_2019.info()"
   ]
  },
  {
   "cell_type": "code",
   "execution_count": 48,
   "id": "aea1251d-9024-4b7a-b71d-bc9adaf53069",
   "metadata": {
    "slideshow": {
     "slide_type": "skip"
    },
    "tags": []
   },
   "outputs": [
    {
     "name": "stdout",
     "output_type": "stream",
     "text": [
      "<class 'pandas.core.frame.DataFrame'>\n",
      "RangeIndex: 704054 entries, 0 to 704053\n",
      "Data columns (total 8 columns):\n",
      " #   Column              Non-Null Count   Dtype         \n",
      "---  ------              --------------   -----         \n",
      " 0   ride_id             704054 non-null  int64         \n",
      " 1   started_at          704054 non-null  datetime64[ns]\n",
      " 2   ended_at            704054 non-null  datetime64[ns]\n",
      " 3   start_station_name  704054 non-null  object        \n",
      " 4   start_station_id    704054 non-null  int64         \n",
      " 5   end_station_name    704054 non-null  object        \n",
      " 6   end_station_id      704054 non-null  int64         \n",
      " 7   member_casual       704054 non-null  object        \n",
      "dtypes: datetime64[ns](2), int64(3), object(3)\n",
      "memory usage: 43.0+ MB\n"
     ]
    }
   ],
   "source": [
    "Q4_2019.info()"
   ]
  },
  {
   "cell_type": "code",
   "execution_count": 49,
   "id": "9c506b07-92e2-41e8-885c-1cb8e65c2d41",
   "metadata": {
    "slideshow": {
     "slide_type": "skip"
    },
    "tags": []
   },
   "outputs": [
    {
     "name": "stdout",
     "output_type": "stream",
     "text": [
      "<class 'pandas.core.frame.DataFrame'>\n",
      "Int64Index: 426886 entries, 0 to 426886\n",
      "Data columns (total 8 columns):\n",
      " #   Column              Non-Null Count   Dtype         \n",
      "---  ------              --------------   -----         \n",
      " 0   ride_id             426886 non-null  object        \n",
      " 1   started_at          426886 non-null  datetime64[ns]\n",
      " 2   ended_at            426886 non-null  datetime64[ns]\n",
      " 3   start_station_name  426886 non-null  object        \n",
      " 4   start_station_id    426886 non-null  int64         \n",
      " 5   end_station_name    426886 non-null  object        \n",
      " 6   end_station_id      426886 non-null  float64       \n",
      " 7   member_casual       426886 non-null  object        \n",
      "dtypes: datetime64[ns](2), float64(1), int64(1), object(4)\n",
      "memory usage: 29.3+ MB\n"
     ]
    }
   ],
   "source": [
    "Q1_2020.info()"
   ]
  },
  {
   "cell_type": "code",
   "execution_count": 50,
   "id": "862b4fe8-a05c-49ea-b477-5ec56fec1e3d",
   "metadata": {
    "slideshow": {
     "slide_type": "fragment"
    },
    "tags": []
   },
   "outputs": [],
   "source": [
    "Q2_2019['ride_id'] = Q2_2019['ride_id'].astype(object)"
   ]
  },
  {
   "cell_type": "code",
   "execution_count": 51,
   "id": "9f10b435-7043-4e87-a5ae-b2f45b7f25ce",
   "metadata": {
    "slideshow": {
     "slide_type": "fragment"
    },
    "tags": []
   },
   "outputs": [],
   "source": [
    "Q3_2019['ride_id'] = Q3_2019['ride_id'].astype(object)"
   ]
  },
  {
   "cell_type": "code",
   "execution_count": 52,
   "id": "3f1acdeb-ab5c-43bd-a65a-e1d5a5a30d14",
   "metadata": {
    "slideshow": {
     "slide_type": "fragment"
    },
    "tags": []
   },
   "outputs": [],
   "source": [
    "Q4_2019['ride_id'] = Q4_2019['ride_id'].astype(object)"
   ]
  },
  {
   "cell_type": "code",
   "execution_count": 53,
   "id": "b5ef2147-9ef2-4481-ab21-04aa5f716d8f",
   "metadata": {
    "slideshow": {
     "slide_type": "fragment"
    },
    "tags": []
   },
   "outputs": [],
   "source": [
    "Q1_2020['ride_id'] = Q1_2020['ride_id'].astype(object)"
   ]
  },
  {
   "cell_type": "code",
   "execution_count": 54,
   "id": "0ece0132-2ea7-49ad-ae48-5f2d74427d71",
   "metadata": {
    "slideshow": {
     "slide_type": "skip"
    },
    "tags": []
   },
   "outputs": [
    {
     "data": {
      "text/html": [
       "<div>\n",
       "<style scoped>\n",
       "    .dataframe tbody tr th:only-of-type {\n",
       "        vertical-align: middle;\n",
       "    }\n",
       "\n",
       "    .dataframe tbody tr th {\n",
       "        vertical-align: top;\n",
       "    }\n",
       "\n",
       "    .dataframe thead th {\n",
       "        text-align: right;\n",
       "    }\n",
       "</style>\n",
       "<table border=\"1\" class=\"dataframe\">\n",
       "  <thead>\n",
       "    <tr style=\"text-align: right;\">\n",
       "      <th></th>\n",
       "      <th>ride_id</th>\n",
       "      <th>started_at</th>\n",
       "      <th>ended_at</th>\n",
       "      <th>start_station_name</th>\n",
       "      <th>start_station_id</th>\n",
       "      <th>end_station_name</th>\n",
       "      <th>end_station_id</th>\n",
       "      <th>member_casual</th>\n",
       "    </tr>\n",
       "  </thead>\n",
       "  <tbody>\n",
       "    <tr>\n",
       "      <th>0</th>\n",
       "      <td>EACB19130B0CDA4A</td>\n",
       "      <td>2020-01-21 20:06:59</td>\n",
       "      <td>2020-01-21 20:14:30</td>\n",
       "      <td>Western Ave &amp; Leland Ave</td>\n",
       "      <td>239</td>\n",
       "      <td>Clark St &amp; Leland Ave</td>\n",
       "      <td>326.0</td>\n",
       "      <td>member</td>\n",
       "    </tr>\n",
       "    <tr>\n",
       "      <th>1</th>\n",
       "      <td>8FED874C809DC021</td>\n",
       "      <td>2020-01-30 14:22:39</td>\n",
       "      <td>2020-01-30 14:26:22</td>\n",
       "      <td>Clark St &amp; Montrose Ave</td>\n",
       "      <td>234</td>\n",
       "      <td>Southport Ave &amp; Irving Park Rd</td>\n",
       "      <td>318.0</td>\n",
       "      <td>member</td>\n",
       "    </tr>\n",
       "    <tr>\n",
       "      <th>2</th>\n",
       "      <td>789F3C21E472CA96</td>\n",
       "      <td>2020-01-09 19:29:26</td>\n",
       "      <td>2020-01-09 19:32:17</td>\n",
       "      <td>Broadway &amp; Belmont Ave</td>\n",
       "      <td>296</td>\n",
       "      <td>Wilton Ave &amp; Belmont Ave</td>\n",
       "      <td>117.0</td>\n",
       "      <td>member</td>\n",
       "    </tr>\n",
       "    <tr>\n",
       "      <th>3</th>\n",
       "      <td>C9A388DAC6ABF313</td>\n",
       "      <td>2020-01-06 16:17:07</td>\n",
       "      <td>2020-01-06 16:25:56</td>\n",
       "      <td>Clark St &amp; Randolph St</td>\n",
       "      <td>51</td>\n",
       "      <td>Fairbanks Ct &amp; Grand Ave</td>\n",
       "      <td>24.0</td>\n",
       "      <td>member</td>\n",
       "    </tr>\n",
       "    <tr>\n",
       "      <th>4</th>\n",
       "      <td>943BC3CBECCFD662</td>\n",
       "      <td>2020-01-30 08:37:16</td>\n",
       "      <td>2020-01-30 08:42:48</td>\n",
       "      <td>Clinton St &amp; Lake St</td>\n",
       "      <td>66</td>\n",
       "      <td>Wells St &amp; Hubbard St</td>\n",
       "      <td>212.0</td>\n",
       "      <td>member</td>\n",
       "    </tr>\n",
       "  </tbody>\n",
       "</table>\n",
       "</div>"
      ],
      "text/plain": [
       "            ride_id          started_at            ended_at  \\\n",
       "0  EACB19130B0CDA4A 2020-01-21 20:06:59 2020-01-21 20:14:30   \n",
       "1  8FED874C809DC021 2020-01-30 14:22:39 2020-01-30 14:26:22   \n",
       "2  789F3C21E472CA96 2020-01-09 19:29:26 2020-01-09 19:32:17   \n",
       "3  C9A388DAC6ABF313 2020-01-06 16:17:07 2020-01-06 16:25:56   \n",
       "4  943BC3CBECCFD662 2020-01-30 08:37:16 2020-01-30 08:42:48   \n",
       "\n",
       "         start_station_name  start_station_id                end_station_name  \\\n",
       "0  Western Ave & Leland Ave               239           Clark St & Leland Ave   \n",
       "1   Clark St & Montrose Ave               234  Southport Ave & Irving Park Rd   \n",
       "2    Broadway & Belmont Ave               296        Wilton Ave & Belmont Ave   \n",
       "3    Clark St & Randolph St                51        Fairbanks Ct & Grand Ave   \n",
       "4      Clinton St & Lake St                66           Wells St & Hubbard St   \n",
       "\n",
       "   end_station_id member_casual  \n",
       "0           326.0        member  \n",
       "1           318.0        member  \n",
       "2           117.0        member  \n",
       "3            24.0        member  \n",
       "4           212.0        member  "
      ]
     },
     "execution_count": 54,
     "metadata": {},
     "output_type": "execute_result"
    }
   ],
   "source": [
    "Q1_2020.head(5)"
   ]
  },
  {
   "cell_type": "code",
   "execution_count": 55,
   "id": "e786e688-13cf-47fe-8fdc-2d3c6e265b13",
   "metadata": {
    "slideshow": {
     "slide_type": "fragment"
    },
    "tags": []
   },
   "outputs": [],
   "source": [
    "Q1_2020['end_station_id'] = Q1_2020['end_station_id'].astype(np.int64)"
   ]
  },
  {
   "cell_type": "markdown",
   "id": "ee8ecbc8-e0e6-4f68-9cee-79570e2423f9",
   "metadata": {
    "slideshow": {
     "slide_type": "slide"
    },
    "tags": []
   },
   "source": [
    "### At this point we combine all of the data frames into a complete year round frame"
   ]
  },
  {
   "cell_type": "code",
   "execution_count": 56,
   "id": "37fddb4c-1a6d-4418-9e6e-9017ec413e19",
   "metadata": {
    "slideshow": {
     "slide_type": "fragment"
    },
    "tags": []
   },
   "outputs": [],
   "source": [
    "year_total = pd.concat([Q2_2019,Q3_2019,Q4_2019,Q1_2020])"
   ]
  },
  {
   "cell_type": "code",
   "execution_count": 57,
   "id": "a6f5d67f-ac18-45aa-aa0c-b5e1083a780a",
   "metadata": {
    "slideshow": {
     "slide_type": "subslide"
    },
    "tags": []
   },
   "outputs": [
    {
     "data": {
      "text/html": [
       "<div>\n",
       "<style scoped>\n",
       "    .dataframe tbody tr th:only-of-type {\n",
       "        vertical-align: middle;\n",
       "    }\n",
       "\n",
       "    .dataframe tbody tr th {\n",
       "        vertical-align: top;\n",
       "    }\n",
       "\n",
       "    .dataframe thead th {\n",
       "        text-align: right;\n",
       "    }\n",
       "</style>\n",
       "<table border=\"1\" class=\"dataframe\">\n",
       "  <thead>\n",
       "    <tr style=\"text-align: right;\">\n",
       "      <th></th>\n",
       "      <th>ride_id</th>\n",
       "      <th>started_at</th>\n",
       "      <th>ended_at</th>\n",
       "      <th>start_station_name</th>\n",
       "      <th>start_station_id</th>\n",
       "      <th>end_station_name</th>\n",
       "      <th>end_station_id</th>\n",
       "      <th>member_casual</th>\n",
       "    </tr>\n",
       "  </thead>\n",
       "  <tbody>\n",
       "    <tr>\n",
       "      <th>0</th>\n",
       "      <td>6251</td>\n",
       "      <td>2019-04-01 00:02:22</td>\n",
       "      <td>2019-04-01 00:09:48</td>\n",
       "      <td>Daley Center Plaza</td>\n",
       "      <td>81</td>\n",
       "      <td>Desplaines St &amp; Kinzie St</td>\n",
       "      <td>56</td>\n",
       "      <td>Subscriber</td>\n",
       "    </tr>\n",
       "    <tr>\n",
       "      <th>1</th>\n",
       "      <td>6226</td>\n",
       "      <td>2019-04-01 00:03:02</td>\n",
       "      <td>2019-04-01 00:20:30</td>\n",
       "      <td>Wood St &amp; Taylor St</td>\n",
       "      <td>317</td>\n",
       "      <td>Wabash Ave &amp; Roosevelt Rd</td>\n",
       "      <td>59</td>\n",
       "      <td>Subscriber</td>\n",
       "    </tr>\n",
       "    <tr>\n",
       "      <th>2</th>\n",
       "      <td>5649</td>\n",
       "      <td>2019-04-01 00:11:07</td>\n",
       "      <td>2019-04-01 00:15:19</td>\n",
       "      <td>LaSalle St &amp; Jackson Blvd</td>\n",
       "      <td>283</td>\n",
       "      <td>Canal St &amp; Madison St</td>\n",
       "      <td>174</td>\n",
       "      <td>Subscriber</td>\n",
       "    </tr>\n",
       "    <tr>\n",
       "      <th>3</th>\n",
       "      <td>4151</td>\n",
       "      <td>2019-04-01 00:13:01</td>\n",
       "      <td>2019-04-01 00:18:58</td>\n",
       "      <td>McClurg Ct &amp; Illinois St</td>\n",
       "      <td>26</td>\n",
       "      <td>Kingsbury St &amp; Kinzie St</td>\n",
       "      <td>133</td>\n",
       "      <td>Subscriber</td>\n",
       "    </tr>\n",
       "    <tr>\n",
       "      <th>4</th>\n",
       "      <td>3270</td>\n",
       "      <td>2019-04-01 00:19:26</td>\n",
       "      <td>2019-04-01 00:36:13</td>\n",
       "      <td>Halsted St &amp; 18th St</td>\n",
       "      <td>202</td>\n",
       "      <td>Blue Island Ave &amp; 18th St</td>\n",
       "      <td>129</td>\n",
       "      <td>Subscriber</td>\n",
       "    </tr>\n",
       "  </tbody>\n",
       "</table>\n",
       "</div>"
      ],
      "text/plain": [
       "  ride_id          started_at            ended_at         start_station_name  \\\n",
       "0    6251 2019-04-01 00:02:22 2019-04-01 00:09:48         Daley Center Plaza   \n",
       "1    6226 2019-04-01 00:03:02 2019-04-01 00:20:30        Wood St & Taylor St   \n",
       "2    5649 2019-04-01 00:11:07 2019-04-01 00:15:19  LaSalle St & Jackson Blvd   \n",
       "3    4151 2019-04-01 00:13:01 2019-04-01 00:18:58   McClurg Ct & Illinois St   \n",
       "4    3270 2019-04-01 00:19:26 2019-04-01 00:36:13       Halsted St & 18th St   \n",
       "\n",
       "   start_station_id           end_station_name  end_station_id member_casual  \n",
       "0                81  Desplaines St & Kinzie St              56    Subscriber  \n",
       "1               317  Wabash Ave & Roosevelt Rd              59    Subscriber  \n",
       "2               283      Canal St & Madison St             174    Subscriber  \n",
       "3                26   Kingsbury St & Kinzie St             133    Subscriber  \n",
       "4               202  Blue Island Ave & 18th St             129    Subscriber  "
      ]
     },
     "execution_count": 57,
     "metadata": {},
     "output_type": "execute_result"
    }
   ],
   "source": [
    "year_total.head(5)"
   ]
  },
  {
   "cell_type": "code",
   "execution_count": 58,
   "id": "01b9cb65-e65f-4a56-97ac-59d0a67acdbb",
   "metadata": {
    "slideshow": {
     "slide_type": "skip"
    },
    "tags": []
   },
   "outputs": [
    {
     "data": {
      "text/html": [
       "<div>\n",
       "<style scoped>\n",
       "    .dataframe tbody tr th:only-of-type {\n",
       "        vertical-align: middle;\n",
       "    }\n",
       "\n",
       "    .dataframe tbody tr th {\n",
       "        vertical-align: top;\n",
       "    }\n",
       "\n",
       "    .dataframe thead th {\n",
       "        text-align: right;\n",
       "    }\n",
       "</style>\n",
       "<table border=\"1\" class=\"dataframe\">\n",
       "  <thead>\n",
       "    <tr style=\"text-align: right;\">\n",
       "      <th></th>\n",
       "      <th>ride_id</th>\n",
       "      <th>started_at</th>\n",
       "      <th>ended_at</th>\n",
       "      <th>start_station_name</th>\n",
       "      <th>start_station_id</th>\n",
       "      <th>end_station_name</th>\n",
       "      <th>end_station_id</th>\n",
       "      <th>member_casual</th>\n",
       "    </tr>\n",
       "  </thead>\n",
       "  <tbody>\n",
       "    <tr>\n",
       "      <th>426882</th>\n",
       "      <td>ADDAA33CEBCAE733</td>\n",
       "      <td>2020-03-10 10:40:06</td>\n",
       "      <td>2020-03-10 10:40:07</td>\n",
       "      <td>HQ QR</td>\n",
       "      <td>675</td>\n",
       "      <td>HQ QR</td>\n",
       "      <td>675</td>\n",
       "      <td>casual</td>\n",
       "    </tr>\n",
       "    <tr>\n",
       "      <th>426883</th>\n",
       "      <td>82B10FA3994BC66A</td>\n",
       "      <td>2020-03-07 15:25:55</td>\n",
       "      <td>2020-03-07 16:14:03</td>\n",
       "      <td>Rush St &amp; Superior St</td>\n",
       "      <td>161</td>\n",
       "      <td>Sheridan Rd &amp; Irving Park Rd</td>\n",
       "      <td>240</td>\n",
       "      <td>member</td>\n",
       "    </tr>\n",
       "    <tr>\n",
       "      <th>426884</th>\n",
       "      <td>AA0D5AAA0B59C8AA</td>\n",
       "      <td>2020-03-01 13:12:38</td>\n",
       "      <td>2020-03-01 13:38:29</td>\n",
       "      <td>Clark St &amp; Lincoln Ave</td>\n",
       "      <td>141</td>\n",
       "      <td>Ashland Ave &amp; Division St</td>\n",
       "      <td>210</td>\n",
       "      <td>casual</td>\n",
       "    </tr>\n",
       "    <tr>\n",
       "      <th>426885</th>\n",
       "      <td>3296360A7BC20FB8</td>\n",
       "      <td>2020-03-07 18:02:45</td>\n",
       "      <td>2020-03-07 18:13:18</td>\n",
       "      <td>Franklin St &amp; Illinois St</td>\n",
       "      <td>672</td>\n",
       "      <td>Stetson Ave &amp; South Water St</td>\n",
       "      <td>264</td>\n",
       "      <td>member</td>\n",
       "    </tr>\n",
       "    <tr>\n",
       "      <th>426886</th>\n",
       "      <td>064EC7698E4FF9B3</td>\n",
       "      <td>2020-03-08 13:03:57</td>\n",
       "      <td>2020-03-08 13:32:27</td>\n",
       "      <td>Dearborn St &amp; Erie St</td>\n",
       "      <td>110</td>\n",
       "      <td>Michigan Ave &amp; Oak St</td>\n",
       "      <td>85</td>\n",
       "      <td>casual</td>\n",
       "    </tr>\n",
       "  </tbody>\n",
       "</table>\n",
       "</div>"
      ],
      "text/plain": [
       "                 ride_id          started_at            ended_at  \\\n",
       "426882  ADDAA33CEBCAE733 2020-03-10 10:40:06 2020-03-10 10:40:07   \n",
       "426883  82B10FA3994BC66A 2020-03-07 15:25:55 2020-03-07 16:14:03   \n",
       "426884  AA0D5AAA0B59C8AA 2020-03-01 13:12:38 2020-03-01 13:38:29   \n",
       "426885  3296360A7BC20FB8 2020-03-07 18:02:45 2020-03-07 18:13:18   \n",
       "426886  064EC7698E4FF9B3 2020-03-08 13:03:57 2020-03-08 13:32:27   \n",
       "\n",
       "               start_station_name  start_station_id  \\\n",
       "426882                      HQ QR               675   \n",
       "426883      Rush St & Superior St               161   \n",
       "426884     Clark St & Lincoln Ave               141   \n",
       "426885  Franklin St & Illinois St               672   \n",
       "426886      Dearborn St & Erie St               110   \n",
       "\n",
       "                    end_station_name  end_station_id member_casual  \n",
       "426882                         HQ QR             675        casual  \n",
       "426883  Sheridan Rd & Irving Park Rd             240        member  \n",
       "426884     Ashland Ave & Division St             210        casual  \n",
       "426885  Stetson Ave & South Water St             264        member  \n",
       "426886         Michigan Ave & Oak St              85        casual  "
      ]
     },
     "execution_count": 58,
     "metadata": {},
     "output_type": "execute_result"
    }
   ],
   "source": [
    "year_total.tail(5)"
   ]
  },
  {
   "cell_type": "markdown",
   "id": "710655ca-d449-441f-a31b-163654e4673b",
   "metadata": {
    "slideshow": {
     "slide_type": "slide"
    },
    "tags": []
   },
   "source": [
    "### We then make some calculations in our data calculating the time for each ride"
   ]
  },
  {
   "cell_type": "code",
   "execution_count": 59,
   "id": "dda52605-ea54-4584-82cd-b0949c2d5610",
   "metadata": {
    "slideshow": {
     "slide_type": "fragment"
    },
    "tags": []
   },
   "outputs": [],
   "source": [
    "year_total['ride_length'] = year_total['ended_at']-year_total['started_at']"
   ]
  },
  {
   "cell_type": "code",
   "execution_count": 60,
   "id": "2231c781-af5a-4cac-8ba5-fc86d0703882",
   "metadata": {
    "slideshow": {
     "slide_type": "subslide"
    },
    "tags": []
   },
   "outputs": [
    {
     "data": {
      "text/plain": [
       "count                      3879821\n",
       "mean     0 days 00:24:37.691704849\n",
       "std      0 days 08:35:08.942913746\n",
       "min              -1 days +23:03:38\n",
       "25%                0 days 00:06:51\n",
       "50%                0 days 00:11:51\n",
       "75%                0 days 00:21:28\n",
       "max              108 days 15:30:24\n",
       "Name: ride_length, dtype: object"
      ]
     },
     "execution_count": 60,
     "metadata": {},
     "output_type": "execute_result"
    }
   ],
   "source": [
    "year_total['ride_length'].describe()"
   ]
  },
  {
   "cell_type": "code",
   "execution_count": 61,
   "id": "8a6f9fe9-e560-4432-b826-e7de092b6c96",
   "metadata": {
    "slideshow": {
     "slide_type": "skip"
    },
    "tags": []
   },
   "outputs": [
    {
     "name": "stdout",
     "output_type": "stream",
     "text": [
      "<class 'pandas.core.frame.DataFrame'>\n",
      "Int64Index: 3879821 entries, 0 to 426886\n",
      "Data columns (total 9 columns):\n",
      " #   Column              Dtype          \n",
      "---  ------              -----          \n",
      " 0   ride_id             object         \n",
      " 1   started_at          datetime64[ns] \n",
      " 2   ended_at            datetime64[ns] \n",
      " 3   start_station_name  object         \n",
      " 4   start_station_id    int64          \n",
      " 5   end_station_name    object         \n",
      " 6   end_station_id      int64          \n",
      " 7   member_casual       object         \n",
      " 8   ride_length         timedelta64[ns]\n",
      "dtypes: datetime64[ns](2), int64(2), object(4), timedelta64[ns](1)\n",
      "memory usage: 296.0+ MB\n"
     ]
    }
   ],
   "source": [
    "year_total.info()"
   ]
  },
  {
   "cell_type": "markdown",
   "id": "81b7af6a-cc7e-40d1-bb1a-a943aad01e45",
   "metadata": {
    "slideshow": {
     "slide_type": "slide"
    },
    "tags": []
   },
   "source": [
    "### We remove all bad data by of ride length that is under 0 time"
   ]
  },
  {
   "cell_type": "code",
   "execution_count": 62,
   "id": "bbf8fb88-84f5-43a1-9d20-edf4eac3b756",
   "metadata": {
    "slideshow": {
     "slide_type": "fragment"
    },
    "tags": []
   },
   "outputs": [],
   "source": [
    "year_total = year_total.drop(year_total[year_total['ride_length'] < '0 days 00:00:00'].index)"
   ]
  },
  {
   "cell_type": "markdown",
   "id": "53001a8f-6f88-4641-bb10-77c3d99d199e",
   "metadata": {
    "slideshow": {
     "slide_type": "slide"
    },
    "tags": []
   },
   "source": [
    "### We initiate the process of going in and finding the day of the week for the corresponding data to make the analysis easier"
   ]
  },
  {
   "cell_type": "code",
   "execution_count": 63,
   "id": "8cd5b510-efb7-45c3-ac98-5dc1c571ce03",
   "metadata": {
    "slideshow": {
     "slide_type": "fragment"
    },
    "tags": []
   },
   "outputs": [],
   "source": [
    "year_total['weekday'] = year_total['started_at'].dt.dayofweek"
   ]
  },
  {
   "cell_type": "code",
   "execution_count": 64,
   "id": "4b7733a5-52a0-4d87-aba1-f99d22aa2dd3",
   "metadata": {
    "slideshow": {
     "slide_type": "skip"
    },
    "tags": []
   },
   "outputs": [
    {
     "data": {
      "text/plain": [
       "11033948"
      ]
     },
     "execution_count": 64,
     "metadata": {},
     "output_type": "execute_result"
    }
   ],
   "source": [
    "year_total['weekday'].sum()"
   ]
  },
  {
   "cell_type": "code",
   "execution_count": 65,
   "id": "18b2a1ba-d95d-42bb-8aef-33d8f53c8115",
   "metadata": {
    "slideshow": {
     "slide_type": "fragment"
    },
    "tags": []
   },
   "outputs": [],
   "source": [
    "year_total['weekday'] = year_total['weekday'].replace([0,1,2,3,4,5,6],['Monday','Tuesday', 'Wednesday', 'Thursday','Friday', 'Saturday','Sunday'])"
   ]
  },
  {
   "cell_type": "code",
   "execution_count": 66,
   "id": "bb45019a-9ac4-4014-9adf-17f6e7c71d03",
   "metadata": {
    "slideshow": {
     "slide_type": "subslide"
    },
    "tags": []
   },
   "outputs": [
    {
     "data": {
      "text/plain": [
       "Tuesday      599551\n",
       "Wednesday    593394\n",
       "Thursday     587454\n",
       "Monday       576568\n",
       "Friday       575659\n",
       "Saturday     497463\n",
       "Sunday       449216\n",
       "Name: weekday, dtype: int64"
      ]
     },
     "execution_count": 66,
     "metadata": {},
     "output_type": "execute_result"
    }
   ],
   "source": [
    "year_total['weekday'].value_counts()"
   ]
  },
  {
   "cell_type": "code",
   "execution_count": 67,
   "id": "c38483ae-0b1d-44c5-954b-371c71100bce",
   "metadata": {
    "slideshow": {
     "slide_type": "fragment"
    },
    "tags": []
   },
   "outputs": [],
   "source": [
    "year_total['month'] = year_total['started_at'].dt.month"
   ]
  },
  {
   "cell_type": "code",
   "execution_count": 68,
   "id": "a0fbe998-d2c1-4a12-bfa8-f138e095f890",
   "metadata": {
    "slideshow": {
     "slide_type": "skip"
    },
    "tags": []
   },
   "outputs": [
    {
     "data": {
      "text/plain": [
       "8     590184\n",
       "7     557186\n",
       "9     493219\n",
       "6     475395\n",
       "10    371719\n",
       "5     367330\n",
       "4     265309\n",
       "11    177114\n",
       "12    155092\n",
       "1     143884\n",
       "3     143289\n",
       "2     139584\n",
       "Name: month, dtype: int64"
      ]
     },
     "execution_count": 68,
     "metadata": {},
     "output_type": "execute_result"
    }
   ],
   "source": [
    "year_total['month'].value_counts()"
   ]
  },
  {
   "cell_type": "markdown",
   "id": "348bd560-c013-4d37-8056-9459309ebede",
   "metadata": {
    "slideshow": {
     "slide_type": "slide"
    },
    "tags": []
   },
   "source": [
    "### Initiate the process to find the season of the year for each corresponnding data to make further analysis easier"
   ]
  },
  {
   "cell_type": "code",
   "execution_count": 69,
   "id": "6000e448-bda3-42b1-875a-19e44d933f22",
   "metadata": {
    "slideshow": {
     "slide_type": "fragment"
    },
    "tags": []
   },
   "outputs": [],
   "source": [
    "year_total['season'] = year_total['month'].replace([1,2,3,4,5,6,7,8,9,10,11,12],['Winter','Winter','Winter','Spring','Spring','Spring','Summer','Summer','Summer','Fall','Fall','Fall'])"
   ]
  },
  {
   "cell_type": "code",
   "execution_count": 70,
   "id": "a4644e79-7694-4af5-ab9a-f09227814b16",
   "metadata": {
    "slideshow": {
     "slide_type": "fragment"
    },
    "tags": []
   },
   "outputs": [],
   "source": [
    "year_total['month'] = year_total['month'].replace([1,2,3,4,5,6,7,8,9,10,11,12],['January','February', 'March', 'April','May', 'June','July', 'August', 'September', 'October','November','December'])"
   ]
  },
  {
   "cell_type": "markdown",
   "id": "9684dcec-891e-4716-a9f6-ebd944ac1e22",
   "metadata": {
    "slideshow": {
     "slide_type": "slide"
    },
    "tags": []
   },
   "source": [
    "### Find some of the unique values have overlapping values for the member_casual column. We replace that to create uniformity in the column"
   ]
  },
  {
   "cell_type": "code",
   "execution_count": 71,
   "id": "1fe65d0d-444f-4164-bbab-d711977edb6b",
   "metadata": {
    "slideshow": {
     "slide_type": "subslide"
    },
    "tags": []
   },
   "outputs": [
    {
     "data": {
      "text/plain": [
       "Subscriber    2595148\n",
       "Customer       857400\n",
       "member         378395\n",
       "casual          48362\n",
       "Name: member_casual, dtype: int64"
      ]
     },
     "execution_count": 71,
     "metadata": {},
     "output_type": "execute_result"
    }
   ],
   "source": [
    "year_total['member_casual'].value_counts()"
   ]
  },
  {
   "cell_type": "code",
   "execution_count": 72,
   "id": "ae1b63e5-7905-4a38-a4c5-fabafb4cdbe0",
   "metadata": {
    "slideshow": {
     "slide_type": "fragment"
    },
    "tags": []
   },
   "outputs": [],
   "source": [
    "year_total['member_casual'] = year_total['member_casual'].replace(['Subscriber','Customer'],['member','casual'])"
   ]
  },
  {
   "cell_type": "code",
   "execution_count": 73,
   "id": "1807f15c-2218-4539-a99d-21f462ab19a6",
   "metadata": {
    "slideshow": {
     "slide_type": "skip"
    },
    "tags": []
   },
   "outputs": [
    {
     "data": {
      "text/plain": [
       "Streeter Dr & Grand Ave                 68371\n",
       "Canal St & Adams St                     55851\n",
       "Lake Shore Dr & Monroe St               50529\n",
       "Clinton St & Madison St                 50129\n",
       "Clinton St & Washington Blvd            46389\n",
       "                                        ...  \n",
       "Racine Ave & 61st St                       10\n",
       "MTL-ECO5.1-01                               8\n",
       "DIVVY CASSETTE REPAIR MOBILE STATION        3\n",
       "Special Events                              1\n",
       "LBS - BBB La Magie                          1\n",
       "Name: start_station_name, Length: 643, dtype: int64"
      ]
     },
     "execution_count": 73,
     "metadata": {},
     "output_type": "execute_result"
    }
   ],
   "source": [
    "year_total['start_station_name'].value_counts()"
   ]
  },
  {
   "cell_type": "markdown",
   "id": "7894954e-d1ae-44fb-bc23-2514649442c3",
   "metadata": {
    "slideshow": {
     "slide_type": "slide"
    },
    "tags": []
   },
   "source": [
    "### Remove faulty data that Divvy has flagged, pertaining to maintenance of bikes."
   ]
  },
  {
   "cell_type": "code",
   "execution_count": 74,
   "id": "e3934f5c-3898-4552-8cf5-21c50296bfde",
   "metadata": {
    "slideshow": {
     "slide_type": "fragment"
    },
    "tags": []
   },
   "outputs": [],
   "source": [
    "year_total = year_total.drop(year_total[year_total['start_station_name'] == 'HQ QR'].index)"
   ]
  },
  {
   "cell_type": "code",
   "execution_count": 75,
   "id": "3fbcfb79-95ce-4353-bd26-f3571907626e",
   "metadata": {
    "slideshow": {
     "slide_type": "subslide"
    },
    "tags": []
   },
   "outputs": [
    {
     "data": {
      "text/plain": [
       "Index(['ride_id', 'started_at', 'ended_at', 'start_station_name',\n",
       "       'start_station_id', 'end_station_name', 'end_station_id',\n",
       "       'member_casual', 'ride_length', 'weekday', 'month', 'season'],\n",
       "      dtype='object')"
      ]
     },
     "execution_count": 75,
     "metadata": {},
     "output_type": "execute_result"
    }
   ],
   "source": [
    "year_total.columns"
   ]
  },
  {
   "cell_type": "markdown",
   "id": "3d796f93-81d9-4240-86a2-6bdc1acae8e2",
   "metadata": {
    "slideshow": {
     "slide_type": "slide"
    },
    "tags": []
   },
   "source": [
    "### Start looking at the analysis of the data!\n",
    "    Use Pivot tables to concentrate our findings of the data"
   ]
  },
  {
   "cell_type": "code",
   "execution_count": 76,
   "id": "9cb7d57a-179b-468a-8e9c-d29d905f616a",
   "metadata": {
    "slideshow": {
     "slide_type": "fragment"
    },
    "tags": []
   },
   "outputs": [],
   "source": [
    "season_total = year_total.pivot_table(index = 'season',values = 'ride_id',columns = 'member_casual',aggfunc = 'count')"
   ]
  },
  {
   "cell_type": "code",
   "execution_count": 77,
   "id": "8edb4dd0-435f-4d4c-a66f-35fa3c8af3c6",
   "metadata": {
    "slideshow": {
     "slide_type": "subslide"
    },
    "tags": []
   },
   "outputs": [
    {
     "data": {
      "text/html": [
       "<div>\n",
       "<style scoped>\n",
       "    .dataframe tbody tr th:only-of-type {\n",
       "        vertical-align: middle;\n",
       "    }\n",
       "\n",
       "    .dataframe tbody tr th {\n",
       "        vertical-align: top;\n",
       "    }\n",
       "\n",
       "    .dataframe thead th {\n",
       "        text-align: right;\n",
       "    }\n",
       "</style>\n",
       "<table border=\"1\" class=\"dataframe\">\n",
       "  <thead>\n",
       "    <tr style=\"text-align: right;\">\n",
       "      <th>member_casual</th>\n",
       "      <th>casual</th>\n",
       "      <th>member</th>\n",
       "    </tr>\n",
       "    <tr>\n",
       "      <th>season</th>\n",
       "      <th></th>\n",
       "      <th></th>\n",
       "    </tr>\n",
       "  </thead>\n",
       "  <tbody>\n",
       "    <tr>\n",
       "      <th>Fall</th>\n",
       "      <td>105665</td>\n",
       "      <td>594610</td>\n",
       "    </tr>\n",
       "    <tr>\n",
       "      <th>Spring</th>\n",
       "      <td>258868</td>\n",
       "      <td>845516</td>\n",
       "    </tr>\n",
       "    <tr>\n",
       "      <th>Summer</th>\n",
       "      <td>490632</td>\n",
       "      <td>1146307</td>\n",
       "    </tr>\n",
       "    <tr>\n",
       "      <th>Winter</th>\n",
       "      <td>44713</td>\n",
       "      <td>378394</td>\n",
       "    </tr>\n",
       "  </tbody>\n",
       "</table>\n",
       "</div>"
      ],
      "text/plain": [
       "member_casual  casual   member\n",
       "season                        \n",
       "Fall           105665   594610\n",
       "Spring         258868   845516\n",
       "Summer         490632  1146307\n",
       "Winter          44713   378394"
      ]
     },
     "execution_count": 77,
     "metadata": {},
     "output_type": "execute_result"
    }
   ],
   "source": [
    "season_total"
   ]
  },
  {
   "cell_type": "code",
   "execution_count": 78,
   "id": "a55e5643-36bb-4ed0-a1f3-cfd37ed0d9d6",
   "metadata": {
    "slideshow": {
     "slide_type": "fragment"
    },
    "tags": []
   },
   "outputs": [],
   "source": [
    "season_total = season_total.reindex(['Winter','Spring','Summer','Fall'])"
   ]
  },
  {
   "cell_type": "code",
   "execution_count": 79,
   "id": "4bdc201e-f6cb-432d-b47d-65a1477e2f39",
   "metadata": {
    "slideshow": {
     "slide_type": "fragment"
    },
    "tags": []
   },
   "outputs": [],
   "source": [
    "season_total = season_total.reset_index()\n",
    "season_total['total'] = season_total['casual']+season_total['member']"
   ]
  },
  {
   "cell_type": "code",
   "execution_count": 80,
   "id": "3d7a9226-4431-4d82-8533-37eab7428b85",
   "metadata": {
    "slideshow": {
     "slide_type": "subslide"
    },
    "tags": []
   },
   "outputs": [
    {
     "data": {
      "image/png": "[encoded data removed]",
      "text/plain": [
       "<Figure size 640x480 with 1 Axes>"
      ]
     },
     "metadata": {},
     "output_type": "display_data"
    }
   ],
   "source": [
    "season_total.plot(x='season', y=['casual','member','total'], kind='bar',label = ['Casual','Member','Total'])\n",
    "plt.title(\"Usage Of Divvy Service Per Season\")\n",
    "plt.xlabel(\"Season\")\n",
    "plt.ylabel(\"Number of Uses\")\n",
    "plt.legend()\n",
    "plt.xticks(rotation=0)\n",
    "plt.ticklabel_format(style='plain',axis='y',scilimits=(0,0))\n",
    "plt.show()"
   ]
  },
  {
   "cell_type": "markdown",
   "id": "16ccdcc3-a6d1-44a5-82c8-3fe90fba0db6",
   "metadata": {
    "slideshow": {
     "slide_type": "slide"
    },
    "tags": []
   },
   "source": [
    "### Plot the findings of the pivot table see the findings above!\n",
    "    1. We see that the Summer is the busiest season for the services, while the least is winter\n",
    "    2. We see that Casual riders are more likely to use the service during the Summer and Fall\n",
    "    3. We also see that during the Summer the casual usership is about a third of the total rides!"
   ]
  },
  {
   "cell_type": "code",
   "execution_count": 81,
   "id": "435c6fb9-5671-40df-acfc-09aa75803d74",
   "metadata": {
    "slideshow": {
     "slide_type": "fragment"
    },
    "tags": []
   },
   "outputs": [],
   "source": [
    "weekday_average_winter = pd.pivot_table(year_total[year_total['season']=='Winter'], values='ride_length',index='weekday',columns='member_casual',aggfunc=np.mean).sort_values('weekday')"
   ]
  },
  {
   "cell_type": "code",
   "execution_count": 82,
   "id": "a1346c8a-66d1-4d20-bcaf-cfcb52be0f08",
   "metadata": {
    "slideshow": {
     "slide_type": "fragment"
    },
    "tags": []
   },
   "outputs": [],
   "source": [
    "weekday_average_spring = pd.pivot_table(year_total[year_total['season']=='Spring'], values='ride_length',index='weekday',columns='member_casual',aggfunc=np.mean).sort_values('weekday')"
   ]
  },
  {
   "cell_type": "code",
   "execution_count": 83,
   "id": "86bf834c-ee94-400b-aada-2dede837662a",
   "metadata": {
    "slideshow": {
     "slide_type": "fragment"
    },
    "tags": []
   },
   "outputs": [],
   "source": [
    "weekday_average_summer = pd.pivot_table(year_total[year_total['season']=='Summer'], values='ride_length',index='weekday',columns='member_casual',aggfunc=np.mean).sort_values('weekday')"
   ]
  },
  {
   "cell_type": "code",
   "execution_count": 84,
   "id": "756b3697-faef-4667-b9fe-bfe0b301cf13",
   "metadata": {
    "slideshow": {
     "slide_type": "fragment"
    },
    "tags": []
   },
   "outputs": [],
   "source": [
    "weekday_average_fall = pd.pivot_table(year_total[year_total['season']=='Fall'], values='ride_length',index='weekday',columns='member_casual',aggfunc=np.mean).sort_values('weekday')"
   ]
  },
  {
   "cell_type": "code",
   "execution_count": 85,
   "id": "50dedc40-d5d7-4a3e-8772-0fd86a2be9ac",
   "metadata": {
    "slideshow": {
     "slide_type": "skip"
    },
    "tags": []
   },
   "outputs": [
    {
     "name": "stdout",
     "output_type": "stream",
     "text": [
      "<class 'pandas.core.frame.DataFrame'>\n",
      "Index: 7 entries, Friday to Wednesday\n",
      "Data columns (total 2 columns):\n",
      " #   Column  Non-Null Count  Dtype          \n",
      "---  ------  --------------  -----          \n",
      " 0   casual  7 non-null      timedelta64[ns]\n",
      " 1   member  7 non-null      timedelta64[ns]\n",
      "dtypes: timedelta64[ns](2)\n",
      "memory usage: 168.0+ bytes\n"
     ]
    }
   ],
   "source": [
    "weekday_average_winter.info()"
   ]
  },
  {
   "cell_type": "code",
   "execution_count": 86,
   "id": "993332fe-3b47-4e7c-b01e-a3b957fe79f4",
   "metadata": {
    "slideshow": {
     "slide_type": "fragment"
    },
    "tags": []
   },
   "outputs": [],
   "source": [
    "weekday_average_winter = weekday_average_winter.reindex(['Monday','Tuesday','Wednesday','Thursday','Friday','Saturday','Sunday'])\n",
    "weekday_average_spring = weekday_average_spring.reindex(['Monday','Tuesday','Wednesday','Thursday','Friday','Saturday','Sunday'])\n",
    "weekday_average_summer = weekday_average_summer.reindex(['Monday','Tuesday','Wednesday','Thursday','Friday','Saturday','Sunday'])\n",
    "weekday_average_fall = weekday_average_fall.reindex(['Monday','Tuesday','Wednesday','Thursday','Friday','Saturday','Sunday'])"
   ]
  },
  {
   "cell_type": "code",
   "execution_count": 87,
   "id": "58ac16e4-935f-47ac-b17f-c42726a165d2",
   "metadata": {
    "slideshow": {
     "slide_type": "fragment"
    },
    "tags": []
   },
   "outputs": [],
   "source": [
    "weekday_average_winter = weekday_average_winter.reset_index()\n",
    "weekday_average_spring = weekday_average_spring.reset_index()\n",
    "weekday_average_summer = weekday_average_summer.reset_index()\n",
    "weekday_average_fall = weekday_average_fall.reset_index()"
   ]
  },
  {
   "cell_type": "code",
   "execution_count": 88,
   "id": "78fb8e43-74be-46f2-8b9a-9e6978b290bb",
   "metadata": {
    "slideshow": {
     "slide_type": "fragment"
    },
    "tags": []
   },
   "outputs": [],
   "source": [
    "weekday_average_winter['casual'] = weekday_average_winter['casual'].dt.total_seconds()\n",
    "weekday_average_spring['casual'] = weekday_average_spring['casual'].dt.total_seconds()\n",
    "weekday_average_summer['casual'] = weekday_average_summer['casual'].dt.total_seconds()\n",
    "weekday_average_fall['casual'] = weekday_average_fall['casual'].dt.total_seconds()"
   ]
  },
  {
   "cell_type": "code",
   "execution_count": 89,
   "id": "51e19840-c573-4687-9033-eb0629aeb3c0",
   "metadata": {
    "slideshow": {
     "slide_type": "fragment"
    },
    "tags": []
   },
   "outputs": [],
   "source": [
    "weekday_average_winter['member'] = weekday_average_winter['member'].dt.total_seconds()\n",
    "weekday_average_spring['member'] = weekday_average_spring['member'].dt.total_seconds()\n",
    "weekday_average_summer['member'] = weekday_average_summer['member'].dt.total_seconds()\n",
    "weekday_average_fall['member'] = weekday_average_fall['member'].dt.total_seconds()"
   ]
  },
  {
   "cell_type": "code",
   "execution_count": 90,
   "id": "e5864ce4-f180-4207-95f7-e4825da9ddcf",
   "metadata": {
    "slideshow": {
     "slide_type": "subslide"
    },
    "tags": []
   },
   "outputs": [
    {
     "data": {
      "text/plain": [
       "<Figure size 1400x600 with 0 Axes>"
      ]
     },
     "metadata": {},
     "output_type": "display_data"
    },
    {
     "data": {
      "image/png": "[encoded data removed]",
      "text/plain": [
       "<Figure size 640x480 with 1 Axes>"
      ]
     },
     "metadata": {},
     "output_type": "display_data"
    },
    {
     "data": {
      "image/png": "[encoded data removed]",
      "text/plain": [
       "<Figure size 640x480 with 1 Axes>"
      ]
     },
     "metadata": {},
     "output_type": "display_data"
    },
    {
     "data": {
      "image/png": "[encoded data removed]",
      "text/plain": [
       "<Figure size 640x480 with 1 Axes>"
      ]
     },
     "metadata": {},
     "output_type": "display_data"
    },
    {
     "data": {
      "image/png": "[encoded data removed]",
      "text/plain": [
       "<Figure size 640x480 with 1 Axes>"
      ]
     },
     "metadata": {},
     "output_type": "display_data"
    }
   ],
   "source": [
    "plt.figure(figsize=(14,6))\n",
    "weekday_average_winter.plot(x='weekday', y=['casual','member'], kind='bar',label = ['Casual','Member'])\n",
    "plt.title(\"Winter Average Duration of Usage\")\n",
    "plt.xlabel(\"Day of the Week\")\n",
    "plt.ylabel(\"Duration (in seconds)\")\n",
    "plt.legend()\n",
    "plt.xticks(rotation=45)\n",
    "plt.ylim(top=9000)\n",
    "plt.show()\n",
    "weekday_average_spring.plot(x='weekday', y=['casual','member'], kind='bar',label = ['Casual','Member'])\n",
    "plt.title(\"Spring Average Duration of Usage\")\n",
    "plt.xlabel(\"Day of the Week\")\n",
    "plt.ylabel(\"Duration (in seconds)\")\n",
    "plt.legend()\n",
    "plt.xticks(rotation=45)\n",
    "plt.ylim(top=9000)\n",
    "plt.show()\n",
    "weekday_average_summer.plot(x='weekday', y=['casual','member'], kind='bar',label = ['Casual','Member'])\n",
    "plt.title(\"Summer Average Duration of Usage\")\n",
    "plt.xlabel(\"Day of the Week\")\n",
    "plt.ylabel(\"Duration (in seconds)\")\n",
    "plt.legend()\n",
    "plt.xticks(rotation=45)\n",
    "plt.ylim(top=9000)\n",
    "plt.show()\n",
    "weekday_average_fall.plot(x='weekday', y=['casual','member'], kind='bar',label = ['Casual','Member'])\n",
    "\n",
    "plt.title(\"Fall Average Duration of Usage\")\n",
    "plt.xlabel(\"Day of the Week\")\n",
    "plt.ylabel(\"Duration (in seconds)\")\n",
    "plt.legend()\n",
    "plt.xticks(rotation=45)\n",
    "plt.ylim(top=9000)\n",
    "plt.show()"
   ]
  },
  {
   "cell_type": "markdown",
   "id": "2e6f696a-979d-466c-ac01-ae5c28c290dd",
   "metadata": {
    "slideshow": {
     "slide_type": "slide"
    },
    "tags": []
   },
   "source": [
    "### The Findings of the plot above tell us:\n",
    "    1. On Average Casuals use the service significantly more than members\n",
    "    2. Looking at the per season analysis, Members usage does not fluctuate as much compared to casuals\n",
    "    3. Casuals deviation is more noticable on average of ride per season"
   ]
  },
  {
   "cell_type": "code",
   "execution_count": 91,
   "id": "b95389c6-5bff-4238-aa58-9999fe2915ad",
   "metadata": {
    "slideshow": {
     "slide_type": "fragment"
    },
    "tags": []
   },
   "outputs": [],
   "source": [
    "weekday_total = pd.pivot_table(year_total, values='ride_length',index='weekday',columns='member_casual',aggfunc='count')"
   ]
  },
  {
   "cell_type": "code",
   "execution_count": 92,
   "id": "58190409-85e2-4a66-80de-eb8b3a7a1828",
   "metadata": {
    "slideshow": {
     "slide_type": "subslide"
    },
    "tags": []
   },
   "outputs": [
    {
     "data": {
      "text/html": [
       "<div>\n",
       "<style scoped>\n",
       "    .dataframe tbody tr th:only-of-type {\n",
       "        vertical-align: middle;\n",
       "    }\n",
       "\n",
       "    .dataframe tbody tr th {\n",
       "        vertical-align: top;\n",
       "    }\n",
       "\n",
       "    .dataframe thead th {\n",
       "        text-align: right;\n",
       "    }\n",
       "</style>\n",
       "<table border=\"1\" class=\"dataframe\">\n",
       "  <thead>\n",
       "    <tr style=\"text-align: right;\">\n",
       "      <th>member_casual</th>\n",
       "      <th>casual</th>\n",
       "      <th>member</th>\n",
       "    </tr>\n",
       "    <tr>\n",
       "      <th>weekday</th>\n",
       "      <th></th>\n",
       "      <th></th>\n",
       "    </tr>\n",
       "  </thead>\n",
       "  <tbody>\n",
       "    <tr>\n",
       "      <th>Friday</th>\n",
       "      <td>122143</td>\n",
       "      <td>451684</td>\n",
       "    </tr>\n",
       "    <tr>\n",
       "      <th>Monday</th>\n",
       "      <td>103021</td>\n",
       "      <td>470749</td>\n",
       "    </tr>\n",
       "    <tr>\n",
       "      <th>Saturday</th>\n",
       "      <td>209090</td>\n",
       "      <td>287215</td>\n",
       "    </tr>\n",
       "    <tr>\n",
       "      <th>Sunday</th>\n",
       "      <td>180792</td>\n",
       "      <td>267169</td>\n",
       "    </tr>\n",
       "    <tr>\n",
       "      <th>Thursday</th>\n",
       "      <td>102507</td>\n",
       "      <td>482983</td>\n",
       "    </tr>\n",
       "    <tr>\n",
       "      <th>Tuesday</th>\n",
       "      <td>90245</td>\n",
       "      <td>506704</td>\n",
       "    </tr>\n",
       "    <tr>\n",
       "      <th>Wednesday</th>\n",
       "      <td>92080</td>\n",
       "      <td>498323</td>\n",
       "    </tr>\n",
       "  </tbody>\n",
       "</table>\n",
       "</div>"
      ],
      "text/plain": [
       "member_casual  casual  member\n",
       "weekday                      \n",
       "Friday         122143  451684\n",
       "Monday         103021  470749\n",
       "Saturday       209090  287215\n",
       "Sunday         180792  267169\n",
       "Thursday       102507  482983\n",
       "Tuesday         90245  506704\n",
       "Wednesday       92080  498323"
      ]
     },
     "execution_count": 92,
     "metadata": {},
     "output_type": "execute_result"
    }
   ],
   "source": [
    "weekday_total"
   ]
  },
  {
   "cell_type": "code",
   "execution_count": 97,
   "id": "f483b9cb-0f37-4494-a059-fd72753a68ca",
   "metadata": {
    "slideshow": {
     "slide_type": "fragment"
    },
    "tags": []
   },
   "outputs": [],
   "source": [
    "weekday_total = weekday_total.reindex(['Monday','Tuesday','Wednesday','Thursday','Friday','Saturday','Sunday'])"
   ]
  },
  {
   "cell_type": "code",
   "execution_count": 98,
   "id": "d02203aa-d0a0-4431-a00f-3bbe5b1ff2d0",
   "metadata": {
    "slideshow": {
     "slide_type": "fragment"
    },
    "tags": []
   },
   "outputs": [],
   "source": [
    "weekday_total = weekday_total.reset_index()"
   ]
  },
  {
   "cell_type": "code",
   "execution_count": 99,
   "id": "31fdab15-6dfb-43b5-9110-938a7ef3566a",
   "metadata": {
    "slideshow": {
     "slide_type": "subslide"
    },
    "tags": []
   },
   "outputs": [
    {
     "data": {
      "image/png": "[encoded data removed]",
      "text/plain": [
       "<Figure size 640x480 with 1 Axes>"
      ]
     },
     "metadata": {},
     "output_type": "display_data"
    }
   ],
   "source": [
    "weekday_total.plot(x='weekday',y=['casual','member'],kind='bar',label =['Casual','Member'])\n",
    "plt.title(\"Usage Of Divvy Service per Day of Week\")\n",
    "plt.xlabel(\"Day of the Week\")\n",
    "plt.ylabel(\"Number of Uses\")\n",
    "plt.legend()\n",
    "plt.xticks(rotation=0)\n",
    "plt.show()"
   ]
  },
  {
   "cell_type": "markdown",
   "id": "78d5c07e-2175-4cad-88d6-e8f047f0a1e1",
   "metadata": {
    "slideshow": {
     "slide_type": "slide"
    },
    "tags": []
   },
   "source": [
    "### Looking at the plot above of the per day analysis\n",
    "    1. In the grand scheme of the Divvy service, the majority of the rides are concentrated by the members\n",
    "    2. In particular during the weekdays of Monday-Friday, Members are vast majority of users of the service\n",
    "    3. During the weekend is where we see the Casual Users increase their participation, still lagging behing the membered users"
   ]
  },
  {
   "cell_type": "markdown",
   "id": "67f58e2c-2b2a-43d7-9076-3dd44bf25b33",
   "metadata": {},
   "source": [
    "## Overall Analysis"
   ]
  },
  {
   "cell_type": "markdown",
   "id": "602dea3e-c2fb-453c-8f4b-ed4108b08f49",
   "metadata": {
    "slideshow": {
     "slide_type": "slide"
    },
    "tags": []
   },
   "source": [
    "#### 1. A typical Casual user of the Divvy bike-share service is one tha uses the bikes on the weekends, during warm climate, and for long duration of times\n",
    "#### 2. A typical Member User of the Divvy bike-share service is one that uses the bikes throughout the week on a continuous basis, in particular throught the weekday to commute to work, and the duration of usage is of short durations as compared to a casual user."
   ]
  },
  {
   "cell_type": "markdown",
   "id": "e77a6ab4-8c3b-426c-ad3a-c95f167accab",
   "metadata": {
    "slideshow": {
     "slide_type": "slide"
    },
    "tags": []
   },
   "source": [
    "## Recommendations to attract more Casual into becoming members\n",
    "### 1. Incentivize long duration penaltites for one time users. Since many of the durations of the casual users are significanlty longer than that of a member, make the cost of one sigificant long ride be more costly than that of a membership. \n",
    "### 2. Make changes to the meembership program that allow you to subscribe for a season. Since a significant more riders of the bikes are used durring Summer and Fall, allow for people to subscribe to the service for a season."
   ]
  }
 ],
 "metadata": {
  "kernelspec": {
   "display_name": "Python 3 (ipykernel)",
   "language": "python",
   "name": "python3"
  },
  "language_info": {
   "codemirror_mode": {
    "name": "ipython",
    "version": 3
   },
   "file_extension": ".py",
   "mimetype": "text/x-python",
   "name": "python",
   "nbconvert_exporter": "python",
   "pygments_lexer": "ipython3",
   "version": "3.10.7"
  },
  "toc-showmarkdowntxt": false
 },
 "nbformat": 4,
 "nbformat_minor": 5
}
